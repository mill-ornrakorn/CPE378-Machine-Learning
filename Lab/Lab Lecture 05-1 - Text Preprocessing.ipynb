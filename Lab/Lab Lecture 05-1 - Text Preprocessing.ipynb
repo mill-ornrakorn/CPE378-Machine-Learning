{
 "cells": [
  {
   "cell_type": "markdown",
   "id": "e5dfeecc",
   "metadata": {},
   "source": [
    "# <center>CPE378 Machine Learning</center>\n",
    "# <center>Lab Lecture 5 - Text Classification</center>\n",
    "---"
   ]
  },
  {
   "cell_type": "markdown",
   "id": "d36c2803",
   "metadata": {},
   "source": [
    "# Activity\n",
    "\n",
    "- Use the harry-potter dataset\n",
    "- Explore the pattern\n",
    "- Identify the cleaning points\n",
    "- Conduct text cleaning\n",
    "- Explore the word and character distribution\n",
    "- Do you see different patterns from what you observed in the morning?"
   ]
  },
  {
   "cell_type": "markdown",
   "id": "2796a325",
   "metadata": {},
   "source": [
    "# 1. Loading data"
   ]
  },
  {
   "cell_type": "code",
   "execution_count": 1,
   "id": "0859c011",
   "metadata": {},
   "outputs": [
    {
     "name": "stderr",
     "output_type": "stream",
     "text": [
      "IOPub data rate exceeded.\n",
      "The notebook server will temporarily stop sending output\n",
      "to the client in order to avoid crashing it.\n",
      "To change this limit, set the config variable\n",
      "`--NotebookApp.iopub_data_rate_limit`.\n",
      "\n",
      "Current values:\n",
      "NotebookApp.iopub_data_rate_limit=1000000.0 (bytes/sec)\n",
      "NotebookApp.rate_limit_window=3.0 (secs)\n",
      "\n"
     ]
    },
    {
     "data": {
      "text/plain": [
       "'Harry Potter\\n\\n\\n\\nand the Chamber of Secrets\\n\\n\\n\\n\\n\\nby\\n\\nJ. K. Rowling\\n\\nIllustrations by Mary Grandpré\\n\\n\\n\\n\\n\\nArthur A. Levine Books\\n\\nAn Imprint Of Scholastic Press\\n\\n\\n\\n\\n\\nFor Seán P. F. Harris.\\n\\nGetaway driver and foul-weather friend\\n\\n\\n\\n\\n\\nText copyright © 1999 by J. K. Rowling.\\n\\nIllustrations by Mary GrandPré copyright © 1999 Warner Bros.\\n\\nAll rights reserved. Published by Scholastic Press, a division of Scholastic Inc.,\\n\\nPublishers since 1920.\\n\\nSCHOLASTIC, SCHOLASTIC PRESS, and the LANTERN LOGO\\n\\nare trademarks and/or registered trademarks of Scholastic Inc.\\n\\n\\n\\nHARRY POTTER, characters, names, and related indicia are trademarks and © Warner Bros.\\n\\nHarry Potter Publishing Rights © J. K. Rowling\\n\\n\\n\\nNo part of this publication may be reproduced, or stored in a retrieval system, or transmitted\\n\\nin any form or by any means, electronic, mechanical, photocopying, recording, or otherwise,\\n\\nwithout written permission of the publisher. For information regarding permission, write\\n\\nto Scholastic Inc., Att'"
      ]
     },
     "execution_count": 1,
     "metadata": {},
     "output_type": "execute_result"
    }
   ],
   "source": [
    "import nltk\n",
    "f = open('../Data/harry_7books.txt', encoding='utf8')\n",
    "raw = f.read()\n",
    "print(raw)\n",
    "raw[:1000]"
   ]
  },
  {
   "cell_type": "markdown",
   "id": "4db49fe9",
   "metadata": {},
   "source": [
    "# 2. Cleaning Data"
   ]
  },
  {
   "cell_type": "markdown",
   "id": "322dc5cd",
   "metadata": {},
   "source": [
    "### -  เลือก tokens เฉพาะที่ตรงเงื่อนไขของ \\w+ (a-zA-Z0-9 1 ตัวขึ้นไป)"
   ]
  },
  {
   "cell_type": "code",
   "execution_count": 2,
   "id": "7393238a",
   "metadata": {
    "scrolled": true
   },
   "outputs": [
    {
     "name": "stdout",
     "output_type": "stream",
     "text": [
      "['back', 'but', 'his', 'words', 'were', 'drowned', 'by', 'a', 'long', 'loud', 'belch', 'from', 'the', 'Dursleys', 'son', 'Dudley', 'I', 'want', 'more', 'bacon', 'There', 's', 'more', 'in', 'the', 'frying', 'pan', 'sweetums', 'said', 'Aunt', 'Petunia', 'turning', 'misty', 'eyes', 'on', 'her', 'massive', 'son', 'We', 'must', 'build', 'you', 'up', 'while', 'we', 've', 'got', 'the', 'chance', 'I', 'don', 't', 'like', 'the', 'sound', 'of', 'that', 'school', 'food', 'Nonsense', 'Petunia', 'I', 'never', 'went', 'hungry', 'when', 'I', 'was', 'at', 'Smelt', 'ings', 'said', 'Uncle', 'Vernon', 'heartily', 'Dudley', 'gets', 'enough', 'don', 't', 'you', 'son', 'Dudley', 'who', 'was', 'so', 'large', 'his', 'bottom', 'drooped', 'over', 'either', 'side', 'of', 'the', 'kitchen', 'chair', 'grinned', 'and', 'turned', 'to', 'Harry', 'Pass', 'the', 'frying', 'pan', 'You', 've', 'forgotten', 'the', 'magic', 'word', 'said', 'Harry', 'irritably', 'The', 'effect', 'of', 'this', 'simple', 'sentence', 'on', 'the', 'rest', 'of', 'the', 'family', 'was', 'incredible', 'Dudley', 'gasped', 'and', 'fell', 'off', 'his', 'chair', 'with', 'a', 'crash', 'that', 'shook', 'the', 'whole', 'kitchen', 'Mrs', 'Dursley', 'gave', 'a', 'small', 'scream', 'and', 'clapped', 'her', 'hands', 'to', 'her', 'mouth', 'Mr', 'Dursley', 'jumped', 'to', 'his', 'feet', 'veins', 'throbbing', 'in', 'his', 'temples', 'I', 'meant', 'please', 'said', 'Harry', 'quickly', 'I', 'didn', 't', 'mean', 'WHAT', 'HAVE', 'I', 'TOLD', 'YOU', 'thundered', 'his', 'uncle', 'spraying', 'spit', 'over', 'the', 'table', 'ABOUT', 'SAYING', 'THE', 'M', 'WORD', 'IN', 'OUR', 'HOUSE', 'But']\n"
     ]
    }
   ],
   "source": [
    "tokens = nltk.regexp_tokenize(raw, r'\\w+')\n",
    "print(tokens[400:600])"
   ]
  },
  {
   "cell_type": "markdown",
   "id": "b82bef5d",
   "metadata": {},
   "source": [
    "### -  เปลี่ยนให้เป็น ตัวพิมพ์เล็ก ทั้งหมด"
   ]
  },
  {
   "cell_type": "code",
   "execution_count": 3,
   "id": "89999f42",
   "metadata": {
    "scrolled": true
   },
   "outputs": [
    {
     "name": "stdout",
     "output_type": "stream",
     "text": [
      "['back', 'but', 'his', 'words', 'were', 'drowned', 'by', 'a', 'long', 'loud', 'belch', 'from', 'the', 'dursleys', 'son', 'dudley', 'i', 'want', 'more', 'bacon', 'there', 's', 'more', 'in', 'the', 'frying', 'pan', 'sweetums', 'said', 'aunt', 'petunia', 'turning', 'misty', 'eyes', 'on', 'her', 'massive', 'son', 'we', 'must', 'build', 'you', 'up', 'while', 'we', 've', 'got', 'the', 'chance', 'i', 'don', 't', 'like', 'the', 'sound', 'of', 'that', 'school', 'food', 'nonsense', 'petunia', 'i', 'never', 'went', 'hungry', 'when', 'i', 'was', 'at', 'smelt', 'ings', 'said', 'uncle', 'vernon', 'heartily', 'dudley', 'gets', 'enough', 'don', 't', 'you', 'son', 'dudley', 'who', 'was', 'so', 'large', 'his', 'bottom', 'drooped', 'over', 'either', 'side', 'of', 'the', 'kitchen', 'chair', 'grinned', 'and', 'turned', 'to', 'harry', 'pass', 'the', 'frying', 'pan', 'you', 've', 'forgotten', 'the', 'magic', 'word', 'said', 'harry', 'irritably', 'the', 'effect', 'of', 'this', 'simple', 'sentence', 'on', 'the', 'rest', 'of', 'the', 'family', 'was', 'incredible', 'dudley', 'gasped', 'and', 'fell', 'off', 'his', 'chair', 'with', 'a', 'crash', 'that', 'shook', 'the', 'whole', 'kitchen', 'mrs', 'dursley', 'gave', 'a', 'small', 'scream', 'and', 'clapped', 'her', 'hands', 'to', 'her', 'mouth', 'mr', 'dursley', 'jumped', 'to', 'his', 'feet', 'veins', 'throbbing', 'in', 'his', 'temples', 'i', 'meant', 'please', 'said', 'harry', 'quickly', 'i', 'didn', 't', 'mean', 'what', 'have', 'i', 'told', 'you', 'thundered', 'his', 'uncle', 'spraying', 'spit', 'over', 'the', 'table', 'about', 'saying', 'the', 'm', 'word', 'in', 'our', 'house', 'but']\n"
     ]
    }
   ],
   "source": [
    "tokens_lower = [w.lower() for w in tokens]\n",
    "print(tokens_lower[400:600])"
   ]
  },
  {
   "cell_type": "markdown",
   "id": "a4824787",
   "metadata": {},
   "source": [
    "### -  ลบ \\xad ออก"
   ]
  },
  {
   "cell_type": "code",
   "execution_count": 4,
   "id": "fee476fd",
   "metadata": {
    "scrolled": true
   },
   "outputs": [
    {
     "data": {
      "text/plain": [
       "['belch',\n",
       " 'from',\n",
       " 'the',\n",
       " 'dursleys',\n",
       " 'son',\n",
       " 'dudley',\n",
       " 'i',\n",
       " 'want',\n",
       " 'more',\n",
       " 'bacon',\n",
       " 'there',\n",
       " 's',\n",
       " 'more',\n",
       " 'in',\n",
       " 'the',\n",
       " 'frying',\n",
       " 'pan',\n",
       " 'sweetums',\n",
       " 'said',\n",
       " 'aunt',\n",
       " 'petunia',\n",
       " 'turning',\n",
       " 'misty',\n",
       " 'eyes',\n",
       " 'on',\n",
       " 'her',\n",
       " 'massive',\n",
       " 'son',\n",
       " 'we',\n",
       " 'must',\n",
       " 'build',\n",
       " 'you',\n",
       " 'up',\n",
       " 'while',\n",
       " 'we',\n",
       " 've',\n",
       " 'got',\n",
       " 'the',\n",
       " 'chance',\n",
       " 'i',\n",
       " 'don',\n",
       " 't',\n",
       " 'like',\n",
       " 'the',\n",
       " 'sound',\n",
       " 'of',\n",
       " 'that',\n",
       " 'school',\n",
       " 'food',\n",
       " 'nonsense',\n",
       " 'petunia',\n",
       " 'i',\n",
       " 'never',\n",
       " 'went',\n",
       " 'hungry',\n",
       " 'when',\n",
       " 'i',\n",
       " 'was',\n",
       " 'at',\n",
       " 'smelt',\n",
       " 'ings',\n",
       " 'said',\n",
       " 'uncle',\n",
       " 'vernon',\n",
       " 'heartily',\n",
       " 'dudley',\n",
       " 'gets',\n",
       " 'enough',\n",
       " 'don',\n",
       " 't',\n",
       " 'you',\n",
       " 'son',\n",
       " 'dudley',\n",
       " 'who',\n",
       " 'was',\n",
       " 'so',\n",
       " 'large',\n",
       " 'his',\n",
       " 'bottom',\n",
       " 'drooped',\n",
       " 'over',\n",
       " 'either',\n",
       " 'side',\n",
       " 'of',\n",
       " 'the',\n",
       " 'kitchen',\n",
       " 'chair',\n",
       " 'grinned',\n",
       " 'and',\n",
       " 'turned']"
      ]
     },
     "execution_count": 4,
     "metadata": {},
     "output_type": "execute_result"
    }
   ],
   "source": [
    "#แทนที่ \\xad ด้วยโล่ง ๆ \n",
    "tokens_del_xad = [w.replace('\\xad','') for w in tokens_lower]\n",
    "tokens_del_xad[410:500]"
   ]
  },
  {
   "cell_type": "markdown",
   "id": "3cf8543c",
   "metadata": {},
   "source": [
    "### -  Remove stopwords"
   ]
  },
  {
   "cell_type": "code",
   "execution_count": 5,
   "id": "7fc699c1",
   "metadata": {},
   "outputs": [],
   "source": [
    "from nltk.corpus import stopwords\n",
    "stop_words = set(stopwords.words(\"english\"))"
   ]
  },
  {
   "cell_type": "code",
   "execution_count": 6,
   "id": "c769c0d6",
   "metadata": {
    "scrolled": true
   },
   "outputs": [
    {
     "data": {
      "text/plain": [
       "['harry',\n",
       " 'closely',\n",
       " 'corners',\n",
       " 'small',\n",
       " 'sharp',\n",
       " 'eyes',\n",
       " 'ever',\n",
       " 'since',\n",
       " 'harry',\n",
       " 'come',\n",
       " 'home',\n",
       " 'summer',\n",
       " 'holidays',\n",
       " 'un',\n",
       " 'cle',\n",
       " 'vernon',\n",
       " 'treating',\n",
       " 'like',\n",
       " 'bomb',\n",
       " 'might',\n",
       " 'go',\n",
       " 'moment',\n",
       " 'harry',\n",
       " 'potter',\n",
       " 'normal',\n",
       " 'boy',\n",
       " 'mat',\n",
       " 'ter',\n",
       " 'fact',\n",
       " 'normal',\n",
       " 'possible',\n",
       " 'harry',\n",
       " 'potter',\n",
       " 'wizard',\n",
       " 'wizard',\n",
       " 'fresh',\n",
       " 'first',\n",
       " 'year',\n",
       " 'hogwarts',\n",
       " 'school',\n",
       " 'witchcraft',\n",
       " 'wizardry',\n",
       " 'dursleys',\n",
       " 'unhappy',\n",
       " 'back',\n",
       " 'holidays',\n",
       " 'nothing',\n",
       " 'harry',\n",
       " 'felt',\n",
       " 'missed',\n",
       " 'hogwarts',\n",
       " 'much',\n",
       " 'like',\n",
       " 'constant',\n",
       " 'stomachache',\n",
       " 'missed',\n",
       " 'castle',\n",
       " 'secret',\n",
       " 'passageways',\n",
       " 'ghosts',\n",
       " 'classes',\n",
       " 'though',\n",
       " 'perhaps',\n",
       " 'snape',\n",
       " 'potions',\n",
       " 'master',\n",
       " 'mail',\n",
       " 'arriving',\n",
       " 'owl',\n",
       " 'eating',\n",
       " 'banquets',\n",
       " 'great',\n",
       " 'hall',\n",
       " 'sleep',\n",
       " 'ing',\n",
       " 'four',\n",
       " 'poster',\n",
       " 'bed',\n",
       " 'tower',\n",
       " 'dormitory',\n",
       " 'visiting',\n",
       " 'gamekeeper',\n",
       " 'hagrid',\n",
       " 'cabin',\n",
       " 'next',\n",
       " 'forbidden',\n",
       " 'forest',\n",
       " 'grounds',\n",
       " 'especially',\n",
       " 'quidditch']"
      ]
     },
     "execution_count": 6,
     "metadata": {},
     "output_type": "execute_result"
    }
   ],
   "source": [
    "tokens_del_stopword = [w for w in tokens_del_xad if not w in stop_words]  \n",
    "tokens_del_stopword[410:500]"
   ]
  },
  {
   "cell_type": "markdown",
   "id": "9f77be18",
   "metadata": {},
   "source": [
    "### -  ทำLemmatization"
   ]
  },
  {
   "cell_type": "code",
   "execution_count": 7,
   "id": "32824b7a",
   "metadata": {
    "scrolled": true
   },
   "outputs": [
    {
     "name": "stderr",
     "output_type": "stream",
     "text": [
      "[nltk_data] Downloading package wordnet to\n",
      "[nltk_data]     C:\\Users\\USER\\AppData\\Roaming\\nltk_data...\n",
      "[nltk_data]   Package wordnet is already up-to-date!\n"
     ]
    },
    {
     "data": {
      "text/plain": [
       "['harry',\n",
       " 'closely',\n",
       " 'corner',\n",
       " 'small',\n",
       " 'sharp',\n",
       " 'eye',\n",
       " 'ever',\n",
       " 'since',\n",
       " 'harry',\n",
       " 'come',\n",
       " 'home',\n",
       " 'summer',\n",
       " 'holiday',\n",
       " 'un',\n",
       " 'cle',\n",
       " 'vernon',\n",
       " 'treating',\n",
       " 'like',\n",
       " 'bomb',\n",
       " 'might',\n",
       " 'go',\n",
       " 'moment',\n",
       " 'harry',\n",
       " 'potter',\n",
       " 'normal',\n",
       " 'boy',\n",
       " 'mat',\n",
       " 'ter',\n",
       " 'fact',\n",
       " 'normal',\n",
       " 'possible',\n",
       " 'harry',\n",
       " 'potter',\n",
       " 'wizard',\n",
       " 'wizard',\n",
       " 'fresh',\n",
       " 'first',\n",
       " 'year',\n",
       " 'hogwarts',\n",
       " 'school',\n",
       " 'witchcraft',\n",
       " 'wizardry',\n",
       " 'dursleys',\n",
       " 'unhappy',\n",
       " 'back',\n",
       " 'holiday',\n",
       " 'nothing',\n",
       " 'harry',\n",
       " 'felt',\n",
       " 'missed',\n",
       " 'hogwarts',\n",
       " 'much',\n",
       " 'like',\n",
       " 'constant',\n",
       " 'stomachache',\n",
       " 'missed',\n",
       " 'castle',\n",
       " 'secret',\n",
       " 'passageway',\n",
       " 'ghost',\n",
       " 'class',\n",
       " 'though',\n",
       " 'perhaps',\n",
       " 'snape',\n",
       " 'potion',\n",
       " 'master',\n",
       " 'mail',\n",
       " 'arriving',\n",
       " 'owl',\n",
       " 'eating',\n",
       " 'banquet',\n",
       " 'great',\n",
       " 'hall',\n",
       " 'sleep',\n",
       " 'ing',\n",
       " 'four',\n",
       " 'poster',\n",
       " 'bed',\n",
       " 'tower',\n",
       " 'dormitory',\n",
       " 'visiting',\n",
       " 'gamekeeper',\n",
       " 'hagrid',\n",
       " 'cabin',\n",
       " 'next',\n",
       " 'forbidden',\n",
       " 'forest',\n",
       " 'ground',\n",
       " 'especially',\n",
       " 'quidditch']"
      ]
     },
     "execution_count": 7,
     "metadata": {},
     "output_type": "execute_result"
    }
   ],
   "source": [
    "nltk.download('wordnet')\n",
    "wnl = nltk.WordNetLemmatizer()\n",
    "tokens_lem_s = [wnl.lemmatize(w) for w in tokens_del_stopword] \n",
    "tokens_lem_s[410:500]"
   ]
  },
  {
   "cell_type": "markdown",
   "id": "5d51ed3a",
   "metadata": {},
   "source": [
    "จะเห็นว่าบางคำ เช่น treating ยังไม่ถูก Lemmatize จึงต้องทำต่อให้ถูกต้อง"
   ]
  },
  {
   "cell_type": "markdown",
   "id": "0b551f0d",
   "metadata": {},
   "source": [
    "### -  ทำLemmatization ต่อ โดยกำหนด pos='v'"
   ]
  },
  {
   "cell_type": "code",
   "execution_count": 8,
   "id": "7f38e9bf",
   "metadata": {
    "scrolled": true
   },
   "outputs": [
    {
     "name": "stderr",
     "output_type": "stream",
     "text": [
      "[nltk_data] Downloading package wordnet to\n",
      "[nltk_data]     C:\\Users\\USER\\AppData\\Roaming\\nltk_data...\n",
      "[nltk_data]   Package wordnet is already up-to-date!\n"
     ]
    },
    {
     "data": {
      "text/plain": [
       "['harry',\n",
       " 'closely',\n",
       " 'corner',\n",
       " 'small',\n",
       " 'sharp',\n",
       " 'eye',\n",
       " 'ever',\n",
       " 'since',\n",
       " 'harry',\n",
       " 'come',\n",
       " 'home',\n",
       " 'summer',\n",
       " 'holiday',\n",
       " 'un',\n",
       " 'cle',\n",
       " 'vernon',\n",
       " 'treat',\n",
       " 'like',\n",
       " 'bomb',\n",
       " 'might',\n",
       " 'go',\n",
       " 'moment',\n",
       " 'harry',\n",
       " 'potter',\n",
       " 'normal',\n",
       " 'boy',\n",
       " 'mat',\n",
       " 'ter',\n",
       " 'fact',\n",
       " 'normal',\n",
       " 'possible',\n",
       " 'harry',\n",
       " 'potter',\n",
       " 'wizard',\n",
       " 'wizard',\n",
       " 'fresh',\n",
       " 'first',\n",
       " 'year',\n",
       " 'hogwarts',\n",
       " 'school',\n",
       " 'witchcraft',\n",
       " 'wizardry',\n",
       " 'dursleys',\n",
       " 'unhappy',\n",
       " 'back',\n",
       " 'holiday',\n",
       " 'nothing',\n",
       " 'harry',\n",
       " 'felt',\n",
       " 'miss',\n",
       " 'hogwarts',\n",
       " 'much',\n",
       " 'like',\n",
       " 'constant',\n",
       " 'stomachache',\n",
       " 'miss',\n",
       " 'castle',\n",
       " 'secret',\n",
       " 'passageway',\n",
       " 'ghost',\n",
       " 'class',\n",
       " 'though',\n",
       " 'perhaps',\n",
       " 'snape',\n",
       " 'potion',\n",
       " 'master',\n",
       " 'mail',\n",
       " 'arrive',\n",
       " 'owl',\n",
       " 'eat',\n",
       " 'banquet',\n",
       " 'great',\n",
       " 'hall',\n",
       " 'sleep',\n",
       " 'ing',\n",
       " 'four',\n",
       " 'poster',\n",
       " 'bed',\n",
       " 'tower',\n",
       " 'dormitory',\n",
       " 'visit',\n",
       " 'gamekeeper',\n",
       " 'hagrid',\n",
       " 'cabin',\n",
       " 'next',\n",
       " 'forbid',\n",
       " 'forest',\n",
       " 'grind',\n",
       " 'especially',\n",
       " 'quidditch']"
      ]
     },
     "execution_count": 8,
     "metadata": {},
     "output_type": "execute_result"
    }
   ],
   "source": [
    "nltk.download('wordnet')\n",
    "wnl = nltk.WordNetLemmatizer()\n",
    "tokens_lem_verb = [wnl.lemmatize(w, pos='v') for w in tokens_lem_s]\n",
    "tokens_lem_verb[410:500]"
   ]
  },
  {
   "cell_type": "markdown",
   "id": "130ca699",
   "metadata": {},
   "source": [
    "จากการกำหนด pos='v' จะทำให้ verb ถูกทำให้ลดรูปแล้ว"
   ]
  },
  {
   "cell_type": "markdown",
   "id": "b411a6d8",
   "metadata": {},
   "source": [
    "# 3. Explore the word and character distribution"
   ]
  },
  {
   "cell_type": "markdown",
   "id": "16349388",
   "metadata": {},
   "source": [
    "### -  Word Frequency Analysis"
   ]
  },
  {
   "cell_type": "code",
   "execution_count": 11,
   "id": "ca5fe8c8",
   "metadata": {},
   "outputs": [
    {
     "name": "stdout",
     "output_type": "stream",
     "text": [
      "[('harry', 18254), ('say', 15921), ('ron', 6332), ('look', 5828), ('hermione', 5209), ('get', 4268), ('go', 4121), ('know', 4002), ('think', 3538), ('back', 3355)]\n"
     ]
    }
   ],
   "source": [
    "from collections import Counter\n",
    "\n",
    "counter = Counter(tokens_lem_verb)\n",
    "print(counter.most_common(10)) # แสดง top 10"
   ]
  },
  {
   "cell_type": "markdown",
   "id": "85750936",
   "metadata": {},
   "source": [
    "### -  Frequency plot"
   ]
  },
  {
   "cell_type": "code",
   "execution_count": 12,
   "id": "66530eec",
   "metadata": {},
   "outputs": [],
   "source": [
    "import pandas as pd\n",
    "df = pd.DataFrame(tokens_lem_verb)"
   ]
  },
  {
   "cell_type": "code",
   "execution_count": 13,
   "id": "95ecb75a",
   "metadata": {},
   "outputs": [
    {
     "data": {
      "image/png": "[encoded data removed]",
      "text/plain": [
       "<Figure size 432x288 with 1 Axes>"
      ]
     },
     "metadata": {
      "needs_background": "light"
     },
     "output_type": "display_data"
    }
   ],
   "source": [
    "import matplotlib.pyplot as plt\n",
    "\n",
    "df_stack = df.stack(level=0) \n",
    "counter = df_stack.value_counts()[0:10] # แสดง top 10\n",
    "plt.barh(counter.index, counter.values, color = '#b8b2e2') \n",
    "plt.gca().invert_yaxis()\n",
    "plt.title(\"Top 10 Words in Harry Potter and the Chamber of Secrets\")\n",
    "plt.xlabel('Frequency') \n",
    "plt.ylabel('Word')\n",
    "plt.show()"
   ]
  },
  {
   "cell_type": "markdown",
   "id": "f943fca0",
   "metadata": {},
   "source": [
    "    Q: Do you see different patterns from what you observed in the morning?\n",
    "    A: เมื่อเปรียบเทียบระหว่าง Lab ที่ทำ กับที่ทำภายในคาบเรียน จะเห็นว่าใน Lab ที่ทำ ผลลัพธ์ของคำที่ได้มีความถูกต้องมากกว่าแบบที่ทำภายในคาบเรียน \n",
    "    เนื่องจากมีการ Clean ข้อมูลที่มากกว่า คือ การลบสัญลักษณ์ที่ไม่จำเป็นออก การลบ stopwords และการทำ Lemmatization ซึ่งเป็นการลดรูปของ\n",
    "    คำที่มีความหมายเดียวกัน "
   ]
  },
  {
   "cell_type": "markdown",
   "id": "f6dd4379",
   "metadata": {},
   "source": [
    "---"
   ]
  }
 ],
 "metadata": {
  "kernelspec": {
   "display_name": "Python 3",
   "language": "python",
   "name": "python3"
  },
  "language_info": {
   "codemirror_mode": {
    "name": "ipython",
    "version": 3
   },
   "file_extension": ".py",
   "mimetype": "text/x-python",
   "name": "python",
   "nbconvert_exporter": "python",
   "pygments_lexer": "ipython3",
   "version": "3.8.8"
  }
 },
 "nbformat": 4,
 "nbformat_minor": 5
}
