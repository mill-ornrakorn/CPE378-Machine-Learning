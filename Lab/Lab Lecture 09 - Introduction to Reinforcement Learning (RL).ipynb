{
 "cells": [
  {
   "cell_type": "markdown",
   "metadata": {},
   "source": [
    "# <center>CPE378 Machine Learning</center>\n",
    "# <center>Lab Lecture 09 - Introduction to Reinforcement Learning (RL)</center>\n",
    "---"
   ]
  },
  {
   "cell_type": "markdown",
   "metadata": {
    "id": "3E5IX5ASUjxY"
   },
   "source": [
    "## Lab Instruction\n",
    "\n",
    "This lab, we will implement an Q-learning agent that will solve the GridWorld problem. The objective of your agent is to maximize the reward by find the shortest path to the exit without stepping on a bomb or a cliff. The result will be compare with the randomly move agent.\n",
    "\n",
    "### Reinforcement Learning\n",
    "\n",
    "The reinforcement learning components:</br>\n",
    "<img src='https://github.com/thanatlap/CPE_CodeInAI_Course_2018/blob/master/9_RL/img/rl.png?raw=1' width=500>\n",
    "\n",
    "- Reinforcement Learning Blog Post (Thai): <a href=\"https://medium.com/asquarelab/ep-1-reinforcement-learning-%E0%B9%80%E0%B8%9A%E0%B8%B7%E0%B9%89%E0%B8%AD%E0%B8%87%E0%B8%95%E0%B9%89%E0%B8%99-acfa9d42394c\"> Thammasorn, A-Square</a></br>\n",
    "- Reinforcement Learning Blog Post (Eng): <a href=\"http://adventuresinmachinelearning.com/reinforcement-learning-tutorial-python-keras/\"> Adventures in Machine Learning</a>\n",
    "\n",
    "### Temporal-Different Learning\n",
    "**Temporal-difference (TD) learning** is a combination of **Monte Carlo** ideas and **dynamic programming (DP)** ideas.</br>\n",
    "Like Monte Carlo methods, TD methods **can learn directly from raw experience without a model of the environment’s dynamics**.</br> \n",
    "Like DP, TD methods update estimates based in part on other learned estimates, **without waiting for a final outcome** (they bootstrap).</br>\n",
    "The relationship between TD, DP, and Monte Carlo methods is a recurring theme in the theory of reinforcement learning"
   ]
  },
  {
   "cell_type": "code",
   "execution_count": 2,
   "metadata": {
    "id": "vzA8Kta6Twg4"
   },
   "outputs": [],
   "source": [
    "# Setup \n",
    "import numpy as np\n",
    "import matplotlib.pyplot as plt\n",
    "%matplotlib inline\n",
    "import env as env"
   ]
  },
  {
   "cell_type": "markdown",
   "metadata": {
    "id": "tRE5a-koUjy6"
   },
   "source": [
    "### **Environment - Cliff Gridworld**\n",
    "\n",
    "The environment is a Cliff Gridworld, illustrated as follows: </br>\n",
    "\n",
    "<img src='https://github.com/thanatlap/CPE_CodeInAI_Course_2018/blob/master/9_RL/img/grid.png?raw=1' width=500></br>\n",
    "\n",
    "The world is a 10x10 grid where the exit is at bottom right corner. The bomb is randomly generated around the exit.</br>\n",
    "The agent is randomly start around the top left corner section. </br>\n",
    "Each step count as -1. In other word, the more step your agent take, the more penalty you have.</br>\n",
    "If your agent move against the corner, your agent will move. If your agent step to the cliff, the penalty is -20, same as stepping into a bomb which get -10 penalty.</br>\n",
    "If your agent reach to the exit, you will recieve 20 reward.</br>\n",
    "\n",
    "The episode is end when your agent found a way out and get a reward or step on a bomb and get the penalty point.</br>\n",
    "Your agent is at the starting point when the new episode begin.\n",
    "\n",
    "```env.World```</br>\n",
    ">**Properties**\n",
    "- height: The height of a grid world\n",
    "- width: The width of a grid world\n",
    "- current_location: current location of your agent.\n",
    "- actions: a list of an available actions (up,down,left,right)</br>\n",
    "\n",
    ">**Methods**\n",
    "- ```available_actions()``` Get a set of available actions\n",
    "- ```move_agent(action)``` Move an agent to the given direction and return a reward of that action.\n",
    "- ```reset()``` Reset the state of the environment to the starting point. \n",
    "- ```end_state()``` Get the end state. Return True if the state is end. False, otherwise.\n",
    "- ```render()``` Show the current terran of the grid world"
   ]
  },
  {
   "cell_type": "code",
   "execution_count": 3,
   "metadata": {
    "id": "McryLmYmUjy_"
   },
   "outputs": [],
   "source": [
    "# Initialize environment\n",
    "env = env.World()"
   ]
  },
  {
   "cell_type": "code",
   "execution_count": 4,
   "metadata": {
    "colab": {
     "base_uri": "https://localhost:8080/"
    },
    "id": "nRgbRs2WUjzT",
    "outputId": "9b7a10c9-a0bd-4214-d588-6f6b555e645e"
   },
   "outputs": [
    {
     "data": {
      "text/plain": [
       "['up', 'down', 'left', 'right']"
      ]
     },
     "execution_count": 4,
     "metadata": {},
     "output_type": "execute_result"
    }
   ],
   "source": [
    "env.available_actions() # ดูว่า available actions ที่สามารถใช้ได้ในปัญหานี้มีอะไรบ้าง"
   ]
  },
  {
   "cell_type": "markdown",
   "metadata": {
    "id": "1ZCu7REfUjzZ"
   },
   "source": [
    "### **Define Random Agent**\n",
    "\n",
    "Define an agent that walk randomly."
   ]
  },
  {
   "cell_type": "code",
   "execution_count": 5,
   "metadata": {
    "id": "Y6JA7RWyUjza"
   },
   "outputs": [],
   "source": [
    "# Define Random Agent Object\n",
    "class DumbAgent():\n",
    "    def action(self, available_actions):\n",
    "        return np.random.choice(available_actions) # random available actions เลยว่าจะไปทางไหน บน ล่าง ซ้าย ขวา"
   ]
  },
  {
   "cell_type": "code",
   "execution_count": 6,
   "metadata": {
    "colab": {
     "base_uri": "https://localhost:8080/"
    },
    "id": "ZdM2gTTEUjzh",
    "outputId": "6ac5f1a6-aadd-4e9b-8ed6-0d46eb366b8e"
   },
   "outputs": [
    {
     "data": {
      "text/plain": [
       "1"
      ]
     },
     "execution_count": 6,
     "metadata": {},
     "output_type": "execute_result"
    }
   ],
   "source": [
    "# Test your code\n",
    "agent = DumbAgent()\n",
    "agent.action([1,2,3,4])"
   ]
  },
  {
   "cell_type": "markdown",
   "metadata": {
    "id": "HtWfQ50OUjzt"
   },
   "source": [
    "### **Define a Q-Agent**\n",
    "\n",
    "Define an agent that used q-learning using the following pseudocode: </br>\n",
    "<img src='https://github.com/thanatlap/CPE_CodeInAI_Course_2018/blob/master/9_RL/img/q_learning.png?raw=1'>\n",
    "\n",
    "- S is a state of the environment\n",
    "- S' is a next state\n",
    "- A is a action choosen by the agent\n",
    "- A' is a next action\n",
    "- epsilon, alpha, gamma are the parameter for the agent"
   ]
  },
  {
   "cell_type": "code",
   "execution_count": 7,
   "metadata": {
    "id": "svlftVCeUjzv"
   },
   "outputs": [],
   "source": [
    "class Q_Agent():\n",
    "    \n",
    "    # Initialize Q-Table\n",
    "    def __init__(self, environment, alpha, gamma, epsilon):\n",
    "        self.environment = environment\n",
    "        self.q_table = dict()\n",
    "        for x in range(environment.height):\n",
    "            for y in range(environment.width):\n",
    "                self.q_table[(x,y)] = {'up':0,'down':0,'left':0,'right':0}\n",
    "                \n",
    "        self.alpha = alpha\n",
    "        self.gamma = gamma\n",
    "        self.epsilon = epsilon\n",
    "        \n",
    "        \n",
    "    def action(self, available_actions):\n",
    "        #\n",
    "        # Code here\n",
    "        #\n",
    "        if np.random.uniform(0,1) < self.epsilon: # Exploration -- ให้ agent พยายามหาเส้นทางอื่น ๆ ที่สามารถไปได้ นอกจากทางที่คิดว่าดีอยู่แล้ว\n",
    "            return np.random.choice(available_actions)\n",
    "\n",
    "        else: # Exploitation -- ให้ agent ไปในทางที่คิดว่าดีแล้ว\n",
    "            S = self.q_table[self.environment.current_location]\n",
    "            max_value = max(S.values()) # ให้ไปในทิศทางที่ให้ค่า maximum reward\n",
    "  \n",
    "            # ถ้า max_value เหมือนกัน ก็จะ random เลยว่าจะไปทางไหนดี\n",
    "            return np.random.choice([key for key, value in S.items() if value == max_value])\n",
    "            \n",
    "    # update ว่าค่า Q-Table เป็นเท่าไร\n",
    "    def update(self, current_state, reward, next_state, actions):\n",
    "        #\n",
    "        # Code here\n",
    "        #\n",
    "        S_prime = self.q_table[next_state]\n",
    "        max_value_S_prime = max(S_prime.values())\n",
    "        current_Q_value = self.q_table[current_state][actions]\n",
    "        \n",
    "        # From the equation in pseudocode\n",
    "        self.q_table[current_state][actions] = current_Q_value + self.alpha * (reward + self.gamma*max_value_S_prime - current_Q_value)"
   ]
  },
  {
   "cell_type": "markdown",
   "metadata": {
    "id": "Ixi6XpndUjz4"
   },
   "source": [
    "###  **Deploy Your Agent**\n",
    "\n",
    "Create a function to run your agent in an environment. Your agent will run n trails, each trails has a maximum of m max_steps_per_episode.</br>\n",
    "For the Q-agent, you have to update Q-value for your agent using following code: </br>\n",
    "```python\n",
    "if learn: \n",
    "    agent.update( ... )\n",
    "```\n",
    "\n",
    "The function must record the total reward in each trials and return when the function end.\n",
    "```python\n",
    "total_reward = run(env, agent, trials, max_steps_per_episode, learn=False)\n",
    "```"
   ]
  },
  {
   "cell_type": "code",
   "execution_count": 8,
   "metadata": {
    "id": "fI1zQAG-Ujz5"
   },
   "outputs": [],
   "source": [
    "# deploy\n",
    "def run(env, agent, trials, max_steps_per_episode, learn=False): # learn=False คือ ไม่ได้ใช้ Q-Table ---- learn=True คือ ให้ Agent ใช้ Q-Table ในการเดิน (เป็น policy)\n",
    "    \n",
    "    total_reward = []\n",
    "    for trial in range(trials):\n",
    "        \n",
    "        sum_reward = 0\n",
    "        step = 0\n",
    "        game_over = False \n",
    "\n",
    "        while step < max_steps_per_episode and not game_over: # check ว่า step ในการเดินของ Agent เท่ากับ max_steps_per_episode ยัง หรือ check ว่า game_over ยัง ถ้ายังก็จะเดินไปเรื่อย ๆ  \n",
    "            \n",
    "            # Code here\n",
    "            # Sent the action to environment and get the next state \n",
    "            # and reward\n",
    "            current_state = env.current_location\n",
    "            action = agent.action(env.actions) # เลือก actions\n",
    "            reward = env.move_agent(action) # get reward ว่าในการเดินนั้น ๆ ได้ reward เท่าไร\n",
    "            next_state = env.current_location # เลือก next state\n",
    "            \n",
    "\n",
    "            if learn: # learn = True\n",
    "                agent.update(current_state, reward, next_state, action) # update Q-Table\n",
    "            \n",
    "            sum_reward += reward\n",
    "            step += 1\n",
    "            \n",
    "            \n",
    "            if env.end_state(): # เมื่อ Agent อยู่ใน end state คือ หาทางออกเจอ หรือ เหยียบ bomb\n",
    "                env.reset() # reset world ใหม่ (พวกcliff, bomb, ตำแหน่งของ agent)\n",
    "                game_over = True # game over แล้ว\n",
    "        \n",
    "        total_reward.append(sum_reward)\n",
    "    \n",
    "    return total_reward"
   ]
  },
  {
   "cell_type": "code",
   "execution_count": 9,
   "metadata": {
    "id": "WOgv9sIjUjz9"
   },
   "outputs": [],
   "source": [
    "# Plot reward\n",
    "def plot_total_reward(total_reward):\n",
    "    plt.plot(total_reward)\n",
    "    plt.title('The Sum of Reward During Each Episode')\n",
    "    plt.xlabel('Episode')\n",
    "    plt.ylabel('Cumulative Reward')"
   ]
  },
  {
   "cell_type": "markdown",
   "metadata": {
    "id": "u7X9uAYMUj0C"
   },
   "source": [
    "### **Run a Dump Agent**"
   ]
  },
  {
   "cell_type": "code",
   "execution_count": 10,
   "metadata": {
    "id": "H0GtmtMgUj0D"
   },
   "outputs": [],
   "source": [
    "## Run\n",
    "env.reset() # reset world ใหม่ (พวกcliff, bomb, ตำแหน่งของ agent)\n",
    "\n",
    "agent = DumbAgent()\n",
    "total_reward = run(env, agent, trials=500, max_steps_per_episode=1000, learn=False)"
   ]
  },
  {
   "cell_type": "code",
   "execution_count": 11,
   "metadata": {
    "colab": {
     "base_uri": "https://localhost:8080/",
     "height": 294
    },
    "id": "dPzPpcWDUj0I",
    "outputId": "73ed9a94-de4a-4b57-b9c5-c9cba1d28346"
   },
   "outputs": [
    {
     "data": {
      "image/png": "[encoded data removed]",
      "text/plain": [
       "<Figure size 432x288 with 1 Axes>"
      ]
     },
     "metadata": {
      "needs_background": "light"
     },
     "output_type": "display_data"
    }
   ],
   "source": [
    "## Plot reward\n",
    "plot_total_reward(total_reward)"
   ]
  },
  {
   "cell_type": "markdown",
   "metadata": {
    "id": "1Jv66fuySvyZ"
   },
   "source": [
    "จะเห็นว่า total reward จาก Dump Agent ในแต่ละ episode มีลักษณะขึ้น ๆ ลง ๆ เพราะเป็นการ random โดย Agent ไม่ได้มีการเรียนรู้ หรือ policy ว่าควรจะเดินไปทางไหน เพื่อหาทางออก"
   ]
  },
  {
   "cell_type": "markdown",
   "metadata": {
    "id": "wMcyaw93Uj0N"
   },
   "source": [
    "### **Run an Q-Agent**"
   ]
  },
  {
   "cell_type": "markdown",
   "metadata": {
    "id": "y3M_ws25rGpg"
   },
   "source": [
    "#### **แบบที่ทำในคาบ** 📑"
   ]
  },
  {
   "cell_type": "code",
   "execution_count": 12,
   "metadata": {
    "id": "M2sxT01ZUj0O"
   },
   "outputs": [],
   "source": [
    "## Run\n",
    "env.reset() # reset world ใหม่ (พวกcliff, bomb, ตำแหน่งของ agent)\n",
    "\n",
    "agent = Q_Agent(env, alpha=0.01, gamma=1, epsilon=0.05)\n",
    "total_reward = run(env, agent, trials=500, max_steps_per_episode=1000, learn=True)"
   ]
  },
  {
   "cell_type": "code",
   "execution_count": 13,
   "metadata": {
    "colab": {
     "base_uri": "https://localhost:8080/",
     "height": 294
    },
    "id": "s_AAGow0Uj0R",
    "outputId": "c7eb6d25-41eb-4b49-8983-35923fa53596"
   },
   "outputs": [
    {
     "data": {
      "image/png": "[encoded data removed]",
      "text/plain": [
       "<Figure size 432x288 with 1 Axes>"
      ]
     },
     "metadata": {
      "needs_background": "light"
     },
     "output_type": "display_data"
    }
   ],
   "source": [
    "## Plot reward\n",
    "plot_total_reward(total_reward)"
   ]
  },
  {
   "cell_type": "markdown",
   "metadata": {
    "id": "R22GuWPTfW5R"
   },
   "source": [
    "จะเห็นว่า total reward จาก Q-Agent ใน episode แรก ๆ จะมี Cumulative Reward ไม่ค่อยดี แต่เมื่อ episode เพิ่มขึ้นเรื่อย ๆ Cumulative Reward ก็จะดีขึ้นเรื่อย ๆ เช่นกัน เพราะในการเดินของ Agent มีการเรียนรู้ หรือ policy ว่าควรจะเดินไปทางไหน เพื่อให้ได้ maximum reward"
   ]
  },
  {
   "cell_type": "markdown",
   "metadata": {
    "id": "XZSrzpj24nTq"
   },
   "source": [
    "#### **In-Class Exercise** ให้ลองปรับค่าต่าง ๆ ใน Q_Agent() และ run() ดูว่าผลที่ได้เป็นอย่างไร"
   ]
  },
  {
   "cell_type": "markdown",
   "metadata": {
    "id": "Gpt1S2iWLuOR"
   },
   "source": [
    "#### **ลองปรับเอง** 📝"
   ]
  },
  {
   "cell_type": "markdown",
   "metadata": {
    "id": "jYjrYWctNpnT"
   },
   "source": [
    "##### **-ปรับเฉพาะ alpha จากเดิม 0.01 เป็น 0.05**"
   ]
  },
  {
   "cell_type": "code",
   "execution_count": 14,
   "metadata": {
    "id": "UfIXrnxYL0-C"
   },
   "outputs": [],
   "source": [
    "## Run\n",
    "env.reset() # reset world ใหม่ (พวกcliff, bomb, ตำแหน่งของ agent)\n",
    "\n",
    "agent = Q_Agent(env, alpha=0.05, gamma=1, epsilon=0.05)\n",
    "total_reward = run(env, agent, trials=500, max_steps_per_episode=1000, learn=True)"
   ]
  },
  {
   "cell_type": "code",
   "execution_count": 15,
   "metadata": {
    "colab": {
     "base_uri": "https://localhost:8080/",
     "height": 294
    },
    "id": "ut4O8QctL3lQ",
    "outputId": "e712501f-411e-4fa2-821a-66ef3ecf650e"
   },
   "outputs": [
    {
     "data": {
      "image/png": "[encoded data removed]",
      "text/plain": [
       "<Figure size 432x288 with 1 Axes>"
      ]
     },
     "metadata": {
      "needs_background": "light"
     },
     "output_type": "display_data"
    }
   ],
   "source": [
    "## Plot reward\n",
    "plot_total_reward(total_reward)"
   ]
  },
  {
   "cell_type": "markdown",
   "metadata": {
    "id": "oQ6L8jGIZsLd"
   },
   "source": [
    "เมื่อเทียบกับ Q-Agent แบบที่ทำในคาบ กับแบบที่ปรับเฉพาะ alpha เป็น 0.05 นี้ จะเห็นว่า Q-Agent แบบที่ปรับเฉพาะ alpha เป็น 0.05 จะมี Cumulative Reward ใน episode หลัง ๆ ดีขึ้นกว่า แบบที่ทำในคาบ"
   ]
  },
  {
   "cell_type": "markdown",
   "metadata": {
    "id": "tO8fk1FyQKPS"
   },
   "source": [
    "##### **-ปรับเฉพาะ gamma จากเดิม 1 เป็น 0.8**"
   ]
  },
  {
   "cell_type": "code",
   "execution_count": 18,
   "metadata": {
    "id": "NYlW2kJHPBQK"
   },
   "outputs": [],
   "source": [
    "## Run\n",
    "env.reset() # reset world ใหม่ (พวกcliff, bomb, ตำแหน่งของ agent)\n",
    "\n",
    "agent = Q_Agent(env, alpha=0.01, gamma=0.8, epsilon=0.05)\n",
    "total_reward = run(env, agent, trials=500, max_steps_per_episode=1000, learn=True)"
   ]
  },
  {
   "cell_type": "code",
   "execution_count": 19,
   "metadata": {
    "colab": {
     "base_uri": "https://localhost:8080/",
     "height": 294
    },
    "id": "iwWTXZfzPBAY",
    "outputId": "1c98a6eb-29df-454e-9c68-70ec5fd5d0a5"
   },
   "outputs": [
    {
     "data": {
      "image/png": "[encoded data removed]",
      "text/plain": [
       "<Figure size 432x288 with 1 Axes>"
      ]
     },
     "metadata": {
      "needs_background": "light"
     },
     "output_type": "display_data"
    }
   ],
   "source": [
    "## Plot reward\n",
    "plot_total_reward(total_reward)"
   ]
  },
  {
   "cell_type": "markdown",
   "metadata": {
    "id": "gW6P07I7Zpse"
   },
   "source": [
    "เมื่อเทียบกับ Q-Agent แบบที่ทำในคาบ กับแบบที่ปรับเฉพาะ gamma เป็น 0.8 นี้ จะเห็นว่า Q-Agent แบบที่ปรับเฉพาะ gamma เป็น 0.8 จะมี Cumulative Reward ใน episode หลัง ๆ ดีขึ้นกว่า แบบที่ทำในคาบ อยู่เพียงเล็กน้อย\n",
    "\n"
   ]
  },
  {
   "cell_type": "markdown",
   "metadata": {
    "id": "hKkwejUKQJlL"
   },
   "source": [
    "##### **-ปรับเฉพาะ epsilon จากเดิม 0.05 เป็น 1**"
   ]
  },
  {
   "cell_type": "code",
   "execution_count": 22,
   "metadata": {
    "id": "7_TwwrnCOpcz"
   },
   "outputs": [],
   "source": [
    "## Run\n",
    "env.reset() # reset world ใหม่ (พวกcliff, bomb, ตำแหน่งของ agent)\n",
    "\n",
    "agent = Q_Agent(env, alpha=0.01, gamma=1, epsilon=1)\n",
    "total_reward = run(env, agent, trials=500, max_steps_per_episode=1000, learn=True)"
   ]
  },
  {
   "cell_type": "code",
   "execution_count": 23,
   "metadata": {
    "colab": {
     "base_uri": "https://localhost:8080/",
     "height": 294
    },
    "id": "_PBssLyFO9ef",
    "outputId": "906e6f9d-fabc-4e80-ccb8-d18054bb393a"
   },
   "outputs": [
    {
     "data": {
      "image/png": "[encoded data removed]",
      "text/plain": [
       "<Figure size 432x288 with 1 Axes>"
      ]
     },
     "metadata": {
      "needs_background": "light"
     },
     "output_type": "display_data"
    }
   ],
   "source": [
    "## Plot reward\n",
    "plot_total_reward(total_reward)"
   ]
  },
  {
   "cell_type": "markdown",
   "metadata": {
    "id": "tyttY92UQI_F"
   },
   "source": [
    "เมื่อเทียบกับ Q-Agent แบบที่ทำในคาบ กับแบบที่ปรับเฉพาะ epsilon เป็น 1 นี้ จะเห็นว่า แบบที่ทำในคาบมี Cumulative Reward ที่ดีกว่ามาก ๆ เนื่องจากการตั้งค่า epsilon = 1 จะทำให้  `if np.random.uniform(0,1) < self.epsilon:` ในฟังก์ชันด้านล่างนี้เป็นจริงตลอด ดังนั้นจึงไม่ต่างกันกับการทำ Dump Agent เลย\n",
    "\n",
    "```\n",
    "   def action(self, available_actions):\n",
    "        if np.random.uniform(0,1) < self.epsilon: # Exploration \n",
    "            return np.random.choice(available_actions)\n",
    "\n",
    "        else: \n",
    "            S = self.q_table[self.environment.current_location]\n",
    "            max_value = max(S.values()) \n",
    "            return np.random.choice([key for key, value in S.items() if value == max_value])\n",
    "```\n",
    "\n"
   ]
  },
  {
   "cell_type": "markdown",
   "metadata": {
    "id": "4m2v2XrQcK54"
   },
   "source": [
    "##### **-ปรับเฉพาะ trials จากเดิม 500 เป็น 100**"
   ]
  },
  {
   "cell_type": "code",
   "execution_count": 53,
   "metadata": {
    "id": "-EW0y_QMcKgI"
   },
   "outputs": [],
   "source": [
    "## Run\n",
    "env.reset() # reset world ใหม่ (พวกcliff, bomb, ตำแหน่งของ agent)\n",
    "\n",
    "agent = Q_Agent(env, alpha=0.01, gamma=1, epsilon=0.05)\n",
    "total_reward = run(env, agent, trials=100, max_steps_per_episode=1000, learn=True)"
   ]
  },
  {
   "cell_type": "code",
   "execution_count": 54,
   "metadata": {
    "colab": {
     "base_uri": "https://localhost:8080/",
     "height": 294
    },
    "id": "AEBZzEadcPrP",
    "outputId": "c8a14b2c-1e06-4991-b6c5-c1bca047f28d"
   },
   "outputs": [
    {
     "data": {
      "image/png": "[encoded data removed]",
      "text/plain": [
       "<Figure size 432x288 with 1 Axes>"
      ]
     },
     "metadata": {
      "needs_background": "light"
     },
     "output_type": "display_data"
    }
   ],
   "source": [
    "## Plot reward\n",
    "plot_total_reward(total_reward)"
   ]
  },
  {
   "cell_type": "markdown",
   "metadata": {
    "id": "LV3PTKcWs_7H"
   },
   "source": [
    "เมื่อเทียบกับ Q-Agent แบบที่ทำในคาบ กับแบบที่ปรับเฉพาะ trials เป็น 100 นี้ จะเห็นว่า Q-Agent แบบที่ปรับเฉพาะ trials เป็น 100 จำนวน trials อาจน้อยเกินไปสำหรับการเรียนรู้ หรือ update Q-Table จึงทำให้แบบที่ทำในคาบดีกว่า"
   ]
  },
  {
   "cell_type": "markdown",
   "metadata": {
    "id": "uhkI744Pcr1i"
   },
   "source": [
    "##### **-ปรับเฉพาะ max_steps_per_episode จากเดิม 1000 เป็น 500**"
   ]
  },
  {
   "cell_type": "code",
   "execution_count": 69,
   "metadata": {
    "id": "gAnJ3yqwcqi8"
   },
   "outputs": [],
   "source": [
    "## Run\n",
    "env.reset() # reset world ใหม่ (พวกcliff, bomb, ตำแหน่งของ agent)\n",
    "\n",
    "agent = Q_Agent(env, alpha=0.01, gamma=1, epsilon=0.05)\n",
    "total_reward = run(env, agent, trials=500, max_steps_per_episode=500, learn=True)"
   ]
  },
  {
   "cell_type": "code",
   "execution_count": 70,
   "metadata": {
    "colab": {
     "base_uri": "https://localhost:8080/",
     "height": 294
    },
    "id": "D4hQl-CictNb",
    "outputId": "532e938a-8022-4c44-9b3f-88ae0ea975dd"
   },
   "outputs": [
    {
     "data": {
      "image/png": "[encoded data removed]",
      "text/plain": [
       "<Figure size 432x288 with 1 Axes>"
      ]
     },
     "metadata": {
      "needs_background": "light"
     },
     "output_type": "display_data"
    }
   ],
   "source": [
    "## Plot reward\n",
    "plot_total_reward(total_reward)"
   ]
  },
  {
   "cell_type": "markdown",
   "metadata": {
    "id": "9vKmB4FGdDpp"
   },
   "source": [
    "เมื่อเทียบกับ Q-Agent แบบที่ทำในคาบ กับแบบที่ปรับเฉพาะ max_steps_per_episode เป็น 500 นี้ จะเห็นว่า ทั้ง 2 แบบได้ผลที่ใกล้เคียงพอ ๆ กันเลย"
   ]
  },
  {
   "cell_type": "markdown",
   "metadata": {
    "id": "a_muIGdmUj0j"
   },
   "source": [
    "### **Show Q-Table**\n",
    "\n",
    "Show the agent's Q-table using to make a decision."
   ]
  },
  {
   "cell_type": "code",
   "execution_count": null,
   "metadata": {
    "id": "p7OcG7giUj0k"
   },
   "outputs": [],
   "source": [
    "def Viz_q_table(d, indent=0):\n",
    "    for key, value in d.items():\n",
    "        print('\\t' * indent + str(key))\n",
    "        if isinstance(value, dict):\n",
    "            Viz_q_table(value, indent+1)\n",
    "        else:\n",
    "            print('\\t' * (indent+1) + str(value))"
   ]
  },
  {
   "cell_type": "code",
   "execution_count": null,
   "metadata": {
    "colab": {
     "base_uri": "https://localhost:8080/"
    },
    "id": "zRum3I0nUj0q",
    "outputId": "d2095eec-1fbd-4ebe-b86a-a2e66905726b"
   },
   "outputs": [
    {
     "name": "stdout",
     "output_type": "stream",
     "text": [
      "(0, 0)\n",
      "\tup\n",
      "\t\t-3.669661692827747\n",
      "\tdown\n",
      "\t\t-3.6712314754759388\n",
      "\tleft\n",
      "\t\t-3.6687344797744936\n",
      "\tright\n",
      "\t\t-3.6631431267371037\n",
      "(0, 1)\n",
      "\tup\n",
      "\t\t-3.669503231982927\n",
      "\tdown\n",
      "\t\t-3.6693879370492377\n",
      "\tleft\n",
      "\t\t-3.677291534849961\n",
      "\tright\n",
      "\t\t-3.6675278937011724\n",
      "(0, 2)\n",
      "\tup\n",
      "\t\t-3.6193880494057837\n",
      "\tdown\n",
      "\t\t-3.6296429565828237\n",
      "\tleft\n",
      "\t\t-3.629462604058096\n",
      "\tright\n",
      "\t\t-3.623847922424449\n",
      "(0, 3)\n",
      "\tup\n",
      "\t\t-3.54945263631269\n",
      "\tdown\n",
      "\t\t-3.554746321461873\n",
      "\tleft\n",
      "\t\t-3.5565929372881913\n",
      "\tright\n",
      "\t\t-3.6761379062884827\n",
      "(0, 4)\n",
      "\tup\n",
      "\t\t-0.5981000000000001\n",
      "\tdown\n",
      "\t\t-0.5997674409846765\n",
      "\tleft\n",
      "\t\t-0.4519167311617912\n",
      "\tright\n",
      "\t\t-0.59602\n",
      "(0, 5)\n",
      "\tup\n",
      "\t\t-0.4\n",
      "\tdown\n",
      "\t\t-0.5980000000000001\n",
      "\tleft\n",
      "\t\t-0.40014454630172436\n",
      "\tright\n",
      "\t\t-0.4\n",
      "(0, 6)\n",
      "\tup\n",
      "\t\t-0.2\n",
      "\tdown\n",
      "\t\t-0.4\n",
      "\tleft\n",
      "\t\t-0.20199999999999999\n",
      "\tright\n",
      "\t\t-0.398\n",
      "(0, 7)\n",
      "\tup\n",
      "\t\t-0.2\n",
      "\tdown\n",
      "\t\t-0.3988642004822047\n",
      "\tleft\n",
      "\t\t-0.2\n",
      "\tright\n",
      "\t\t-0.2\n",
      "(0, 8)\n",
      "\tup\n",
      "\t\t-0.2\n",
      "\tdown\n",
      "\t\t-0.2\n",
      "\tleft\n",
      "\t\t-0.2\n",
      "\tright\n",
      "\t\t-0.14134009060533811\n",
      "(0, 9)\n",
      "\tup\n",
      "\t\t-1.189895781146395\n",
      "\tdown\n",
      "\t\t-1.1965736999077792\n",
      "\tleft\n",
      "\t\t-1.5495365638146619\n",
      "\tright\n",
      "\t\t-1.1896841487860221\n",
      "(1, 0)\n",
      "\tup\n",
      "\t\t-3.654843805655848\n",
      "\tdown\n",
      "\t\t-3.6601651414277017\n",
      "\tleft\n",
      "\t\t-3.659368410531326\n",
      "\tright\n",
      "\t\t-3.6651729510608906\n",
      "(1, 1)\n",
      "\tup\n",
      "\t\t-3.721039443451185\n",
      "\tdown\n",
      "\t\t-3.7296580737416356\n",
      "\tleft\n",
      "\t\t-3.721191492651676\n",
      "\tright\n",
      "\t\t-3.7228229099263612\n",
      "(1, 2)\n",
      "\tup\n",
      "\t\t-3.656880141654665\n",
      "\tdown\n",
      "\t\t-3.653392480248276\n",
      "\tleft\n",
      "\t\t-3.6583936668478563\n",
      "\tright\n",
      "\t\t-3.650362666206542\n",
      "(1, 3)\n",
      "\tup\n",
      "\t\t-3.489250665179941\n",
      "\tdown\n",
      "\t\t-3.478872132751158\n",
      "\tleft\n",
      "\t\t-3.485386580274206\n",
      "\tright\n",
      "\t\t-3.840396097535031\n",
      "(1, 4)\n",
      "\tup\n",
      "\t\t-0.79413781\n",
      "\tdown\n",
      "\t\t-0.4180297472758111\n",
      "\tleft\n",
      "\t\t-0.4300001113176967\n",
      "\tright\n",
      "\t\t-0.598039035411142\n",
      "(1, 5)\n",
      "\tup\n",
      "\t\t-0.6000000000000001\n",
      "\tdown\n",
      "\t\t-0.2678344261054033\n",
      "\tleft\n",
      "\t\t-0.400924790875391\n",
      "\tright\n",
      "\t\t-0.5985868662289449\n",
      "(1, 6)\n",
      "\tup\n",
      "\t\t-0.4\n",
      "\tdown\n",
      "\t\t-0.2861768020375542\n",
      "\tleft\n",
      "\t\t-0.4000631091387585\n",
      "\tright\n",
      "\t\t-0.3994549140123727\n",
      "(1, 7)\n",
      "\tup\n",
      "\t\t-0.2\n",
      "\tdown\n",
      "\t\t-0.19138936780652668\n",
      "\tleft\n",
      "\t\t-0.2\n",
      "\tright\n",
      "\t\t-0.2\n",
      "(1, 8)\n",
      "\tup\n",
      "\t\t-0.39835678045161393\n",
      "\tdown\n",
      "\t\t-0.11319243517789916\n",
      "\tleft\n",
      "\t\t-0.2\n",
      "\tright\n",
      "\t\t-0.10651665494495044\n",
      "(1, 9)\n",
      "\tup\n",
      "\t\t-1.1897975159583547\n",
      "\tdown\n",
      "\t\t-1.191357805884591\n",
      "\tleft\n",
      "\t\t-1.3615281325572124\n",
      "\tright\n",
      "\t\t-1.1898689871064627\n",
      "(2, 0)\n",
      "\tup\n",
      "\t\t-3.5859607889899596\n",
      "\tdown\n",
      "\t\t-3.5824770489188285\n",
      "\tleft\n",
      "\t\t-3.589323016154614\n",
      "\tright\n",
      "\t\t-3.589968789876687\n",
      "(2, 1)\n",
      "\tup\n",
      "\t\t-3.6330381266713845\n",
      "\tdown\n",
      "\t\t-3.63590132119977\n",
      "\tleft\n",
      "\t\t-3.6296516334906057\n",
      "\tright\n",
      "\t\t-3.6338761255066956\n",
      "(2, 2)\n",
      "\tup\n",
      "\t\t-3.5472713510553833\n",
      "\tdown\n",
      "\t\t-3.5415814406267763\n",
      "\tleft\n",
      "\t\t-3.542760689413515\n",
      "\tright\n",
      "\t\t-3.5367333380259676\n",
      "(2, 3)\n",
      "\tup\n",
      "\t\t-3.259748769889727\n",
      "\tdown\n",
      "\t\t-3.2506893102872585\n",
      "\tleft\n",
      "\t\t-3.2542388435516534\n",
      "\tright\n",
      "\t\t-3.2563493049144734\n",
      "(2, 4)\n",
      "\tup\n",
      "\t\t-3.1627149732489697\n",
      "\tdown\n",
      "\t\t-2.8790540556610686\n",
      "\tleft\n",
      "\t\t-2.876628148718759\n",
      "\tright\n",
      "\t\t-2.8731177082172015\n",
      "(2, 5)\n",
      "\tup\n",
      "\t\t-2.63906679097657\n",
      "\tdown\n",
      "\t\t-2.484222919022882\n",
      "\tleft\n",
      "\t\t-2.494853008395312\n",
      "\tright\n",
      "\t\t-2.4867557765783443\n",
      "(2, 6)\n",
      "\tup\n",
      "\t\t-2.6393962147063905\n",
      "\tdown\n",
      "\t\t-2.063857163563445\n",
      "\tleft\n",
      "\t\t-2.0487043271706473\n",
      "\tright\n",
      "\t\t-2.045635113448135\n",
      "(2, 7)\n",
      "\tup\n",
      "\t\t-1.7353905290067033\n",
      "\tdown\n",
      "\t\t-1.5810024308855424\n",
      "\tleft\n",
      "\t\t-1.5804286213826428\n",
      "\tright\n",
      "\t\t-1.5871619183299166\n",
      "(2, 8)\n",
      "\tup\n",
      "\t\t-1.9163890969889468\n",
      "\tdown\n",
      "\t\t-1.3147729575956313\n",
      "\tleft\n",
      "\t\t-1.3084316463572414\n",
      "\tright\n",
      "\t\t-1.3146295652254198\n",
      "(2, 9)\n",
      "\tup\n",
      "\t\t-1.1837791513497782\n",
      "\tdown\n",
      "\t\t-1.1743038267204429\n",
      "\tleft\n",
      "\t\t-1.184507270801254\n",
      "\tright\n",
      "\t\t-1.1795120728194253\n",
      "(3, 0)\n",
      "\tup\n",
      "\t\t-3.466078901729352\n",
      "\tdown\n",
      "\t\t-3.467306235231707\n",
      "\tleft\n",
      "\t\t-3.4597656201641427\n",
      "\tright\n",
      "\t\t-3.461052678445827\n",
      "(3, 1)\n",
      "\tup\n",
      "\t\t-3.4385174740261517\n",
      "\tdown\n",
      "\t\t-3.4422485637712024\n",
      "\tleft\n",
      "\t\t-3.443893091430041\n",
      "\tright\n",
      "\t\t-3.441821095864863\n",
      "(3, 2)\n",
      "\tup\n",
      "\t\t-3.331461928667421\n",
      "\tdown\n",
      "\t\t-3.3394410239156005\n",
      "\tleft\n",
      "\t\t-3.3353405163019816\n",
      "\tright\n",
      "\t\t-3.337798133141129\n",
      "(3, 3)\n",
      "\tup\n",
      "\t\t-3.1201349615445264\n",
      "\tdown\n",
      "\t\t-3.109117025030479\n",
      "\tleft\n",
      "\t\t-3.1137821049422394\n",
      "\tright\n",
      "\t\t-3.1139082266853397\n",
      "(3, 4)\n",
      "\tup\n",
      "\t\t-2.821962713553866\n",
      "\tdown\n",
      "\t\t-2.818785662142206\n",
      "\tleft\n",
      "\t\t-2.816090049780911\n",
      "\tright\n",
      "\t\t-2.816356130056667\n",
      "(3, 5)\n",
      "\tup\n",
      "\t\t-2.5130910889540496\n",
      "\tdown\n",
      "\t\t-2.5141927731966436\n",
      "\tleft\n",
      "\t\t-2.524195491776239\n",
      "\tright\n",
      "\t\t-2.528279056684036\n",
      "(3, 6)\n",
      "\tup\n",
      "\t\t0\n",
      "\tdown\n",
      "\t\t0\n",
      "\tleft\n",
      "\t\t0\n",
      "\tright\n",
      "\t\t0\n",
      "(3, 7)\n",
      "\tup\n",
      "\t\t-1.244155762260668\n",
      "\tdown\n",
      "\t\t-1.2483504618400956\n",
      "\tleft\n",
      "\t\t-1.3125418723102171\n",
      "\tright\n",
      "\t\t-1.2438707300030836\n",
      "(3, 8)\n",
      "\tup\n",
      "\t\t-1.126910453165341\n",
      "\tdown\n",
      "\t\t-1.1290066842857567\n",
      "\tleft\n",
      "\t\t-1.1318065686370895\n",
      "\tright\n",
      "\t\t-1.1221511681164686\n",
      "(3, 9)\n",
      "\tup\n",
      "\t\t-1.0212601536695245\n",
      "\tdown\n",
      "\t\t-1.0200664607666987\n",
      "\tleft\n",
      "\t\t-1.0292404777294704\n",
      "\tright\n",
      "\t\t-1.019864072564754\n",
      "(4, 0)\n",
      "\tup\n",
      "\t\t-3.364742490882568\n",
      "\tdown\n",
      "\t\t-3.358521440461338\n",
      "\tleft\n",
      "\t\t-3.3594142405707483\n",
      "\tright\n",
      "\t\t-3.3664916572048638\n",
      "(4, 1)\n",
      "\tup\n",
      "\t\t-3.3238141794170035\n",
      "\tdown\n",
      "\t\t-3.318893212146218\n",
      "\tleft\n",
      "\t\t-3.3283199864831996\n",
      "\tright\n",
      "\t\t-3.3270954813084677\n",
      "(4, 2)\n",
      "\tup\n",
      "\t\t-3.235952481347047\n",
      "\tdown\n",
      "\t\t-3.226271759338848\n",
      "\tleft\n",
      "\t\t-3.2261452200304928\n",
      "\tright\n",
      "\t\t-3.234293502478785\n",
      "(4, 3)\n",
      "\tup\n",
      "\t\t-3.0434389657242735\n",
      "\tdown\n",
      "\t\t-3.0484015904740493\n",
      "\tleft\n",
      "\t\t-3.0434880822135617\n",
      "\tright\n",
      "\t\t-3.0479044633109638\n",
      "(4, 4)\n",
      "\tup\n",
      "\t\t-2.7311197608143813\n",
      "\tdown\n",
      "\t\t-3.670659028648465\n",
      "\tleft\n",
      "\t\t-2.7089219527469313\n",
      "\tright\n",
      "\t\t-2.7049097818024816\n",
      "(4, 5)\n",
      "\tup\n",
      "\t\t-2.2664861123273465\n",
      "\tdown\n",
      "\t\t-2.2673172007439977\n",
      "\tleft\n",
      "\t\t-2.2685995169091813\n",
      "\tright\n",
      "\t\t-2.3765728565289628\n",
      "(4, 6)\n",
      "\tup\n",
      "\t\t0\n",
      "\tdown\n",
      "\t\t0\n",
      "\tleft\n",
      "\t\t0\n",
      "\tright\n",
      "\t\t0\n",
      "(4, 7)\n",
      "\tup\n",
      "\t\t-1.0075452946931036\n",
      "\tdown\n",
      "\t\t-1.0129759939676937\n",
      "\tleft\n",
      "\t\t-1.0466174574128355\n",
      "\tright\n",
      "\t\t-1.0055317107932211\n",
      "(4, 8)\n",
      "\tup\n",
      "\t\t-0.8851521256645983\n",
      "\tdown\n",
      "\t\t-0.8851029339155638\n",
      "\tleft\n",
      "\t\t-0.8950231821511959\n",
      "\tright\n",
      "\t\t-0.8871589359554675\n",
      "(4, 9)\n",
      "\tup\n",
      "\t\t-0.7368329721727562\n",
      "\tdown\n",
      "\t\t-0.6626429619637305\n",
      "\tleft\n",
      "\t\t-0.7364167171475354\n",
      "\tright\n",
      "\t\t-0.739762598509837\n",
      "(5, 0)\n",
      "\tup\n",
      "\t\t-3.290039259435565\n",
      "\tdown\n",
      "\t\t-3.2897038674429733\n",
      "\tleft\n",
      "\t\t-3.289413945076636\n",
      "\tright\n",
      "\t\t-3.281127032536313\n",
      "(5, 1)\n",
      "\tup\n",
      "\t\t-3.2579537325136196\n",
      "\tdown\n",
      "\t\t-3.2590894109928823\n",
      "\tleft\n",
      "\t\t-3.253348833834403\n",
      "\tright\n",
      "\t\t-3.260701007801901\n",
      "(5, 2)\n",
      "\tup\n",
      "\t\t-3.2080026000741864\n",
      "\tdown\n",
      "\t\t-3.203681241869016\n",
      "\tleft\n",
      "\t\t-3.1999425696029244\n",
      "\tright\n",
      "\t\t-3.2044069028901525\n",
      "(5, 3)\n",
      "\tup\n",
      "\t\t-3.1348094301594105\n",
      "\tdown\n",
      "\t\t-3.141577227111069\n",
      "\tleft\n",
      "\t\t-3.133473252780201\n",
      "\tright\n",
      "\t\t-3.6659683360981834\n",
      "(5, 4)\n",
      "\tup\n",
      "\t\t-0.35903115116823514\n",
      "\tdown\n",
      "\t\t-0.39929749162568606\n",
      "\tleft\n",
      "\t\t-0.35682671850610437\n",
      "\tright\n",
      "\t\t-0.33748696894041474\n",
      "(5, 5)\n",
      "\tup\n",
      "\t\t-1.6667712553196732\n",
      "\tdown\n",
      "\t\t-1.6688556669814085\n",
      "\tleft\n",
      "\t\t-2.105125676960068\n",
      "\tright\n",
      "\t\t-1.6669820505933401\n",
      "(5, 6)\n",
      "\tup\n",
      "\t\t-1.3125418723102171\n",
      "\tdown\n",
      "\t\t-1.2025023020325358\n",
      "\tleft\n",
      "\t\t-1.21136491087415\n",
      "\tright\n",
      "\t\t-1.2066283351352962\n",
      "(5, 7)\n",
      "\tup\n",
      "\t\t-0.8935058373244678\n",
      "\tdown\n",
      "\t\t-0.8914118292744483\n",
      "\tleft\n",
      "\t\t-0.8884798897570656\n",
      "\tright\n",
      "\t\t-0.8897493894980341\n",
      "(5, 8)\n",
      "\tup\n",
      "\t\t-0.6182572534389698\n",
      "\tdown\n",
      "\t\t-0.6130991044873071\n",
      "\tleft\n",
      "\t\t-0.6137322073620847\n",
      "\tright\n",
      "\t\t-0.5594300557092964\n",
      "(5, 9)\n",
      "\tup\n",
      "\t\t-0.4360429002191899\n",
      "\tdown\n",
      "\t\t1.3579657871126893\n",
      "\tleft\n",
      "\t\t-0.42070991151128423\n",
      "\tright\n",
      "\t\t-0.41992194364078467\n",
      "(6, 0)\n",
      "\tup\n",
      "\t\t-3.2470458282332357\n",
      "\tdown\n",
      "\t\t-3.244683639394895\n",
      "\tleft\n",
      "\t\t-3.2394146267429726\n",
      "\tright\n",
      "\t\t-3.2474897978619923\n",
      "(6, 1)\n",
      "\tup\n",
      "\t\t-3.231494216248721\n",
      "\tdown\n",
      "\t\t-3.225338305352128\n",
      "\tleft\n",
      "\t\t-3.2309270719031646\n",
      "\tright\n",
      "\t\t-3.222579961270793\n",
      "(6, 2)\n",
      "\tup\n",
      "\t\t-3.1947199738562024\n",
      "\tdown\n",
      "\t\t-3.19958181166324\n",
      "\tleft\n",
      "\t\t-3.185662262158664\n",
      "\tright\n",
      "\t\t-3.1944439240023716\n",
      "(6, 3)\n",
      "\tup\n",
      "\t\t-3.156506511816697\n",
      "\tdown\n",
      "\t\t-3.161369574739729\n",
      "\tleft\n",
      "\t\t-3.160156390299245\n",
      "\tright\n",
      "\t\t-3.325553127390078\n",
      "(6, 4)\n",
      "\tup\n",
      "\t\t-0.4009269861729883\n",
      "\tdown\n",
      "\t\t-0.4\n",
      "\tleft\n",
      "\t\t-0.22939327044586194\n",
      "\tright\n",
      "\t\t-0.22491032918357282\n",
      "(6, 5)\n",
      "\tup\n",
      "\t\t-1.2322682685752422\n",
      "\tdown\n",
      "\t\t-1.2246612459161503\n",
      "\tleft\n",
      "\t\t-1.3644147249204255\n",
      "\tright\n",
      "\t\t-1.219180406975431\n",
      "(6, 6)\n",
      "\tup\n",
      "\t\t-0.9517009832128094\n",
      "\tdown\n",
      "\t\t-0.9533229583910432\n",
      "\tleft\n",
      "\t\t-0.9523253753395421\n",
      "\tright\n",
      "\t\t-0.9508629469890879\n",
      "(6, 7)\n",
      "\tup\n",
      "\t\t-0.6328959076911511\n",
      "\tdown\n",
      "\t\t-0.6188202383556721\n",
      "\tleft\n",
      "\t\t-0.6199729333532568\n",
      "\tright\n",
      "\t\t-0.5890212185695839\n",
      "(6, 8)\n",
      "\tup\n",
      "\t\t-0.3495623676213038\n",
      "\tdown\n",
      "\t\t-0.32484799717107943\n",
      "\tleft\n",
      "\t\t-0.3487216266039238\n",
      "\tright\n",
      "\t\t0.8870615623035649\n",
      "(6, 9)\n",
      "\tup\n",
      "\t\t-0.20804080635521305\n",
      "\tdown\n",
      "\t\t7.097464170096143\n",
      "\tleft\n",
      "\t\t-0.19328286684112952\n",
      "\tright\n",
      "\t\t-0.125248749735744\n",
      "(7, 0)\n",
      "\tup\n",
      "\t\t-3.21640671260797\n",
      "\tdown\n",
      "\t\t-3.223476452216605\n",
      "\tleft\n",
      "\t\t-3.218968665274511\n",
      "\tright\n",
      "\t\t-3.218559352683799\n",
      "(7, 1)\n",
      "\tup\n",
      "\t\t-3.217578094977538\n",
      "\tdown\n",
      "\t\t-3.216731253801455\n",
      "\tleft\n",
      "\t\t-3.208214936042071\n",
      "\tright\n",
      "\t\t-3.211347426101348\n",
      "(7, 2)\n",
      "\tup\n",
      "\t\t-3.1881209108626893\n",
      "\tdown\n",
      "\t\t-3.193744446341257\n",
      "\tleft\n",
      "\t\t-3.196965681484882\n",
      "\tright\n",
      "\t\t-3.1890043786256084\n",
      "(7, 3)\n",
      "\tup\n",
      "\t\t-3.1619865257547795\n",
      "\tdown\n",
      "\t\t-3.17086782611031\n",
      "\tleft\n",
      "\t\t-3.171173036004437\n",
      "\tright\n",
      "\t\t-3.3248343178336195\n",
      "(7, 4)\n",
      "\tup\n",
      "\t\t-0.4\n",
      "\tdown\n",
      "\t\t-0.3997011184038657\n",
      "\tleft\n",
      "\t\t-0.22582491824297768\n",
      "\tright\n",
      "\t\t-0.20036766071578385\n",
      "(7, 5)\n",
      "\tup\n",
      "\t\t-0.8752605828810294\n",
      "\tdown\n",
      "\t\t-0.8748715417828722\n",
      "\tleft\n",
      "\t\t-1.5515325311204975\n",
      "\tright\n",
      "\t\t-0.8699889094167773\n",
      "(7, 6)\n",
      "\tup\n",
      "\t\t-0.6589067436034017\n",
      "\tdown\n",
      "\t\t-0.6557558600420549\n",
      "\tleft\n",
      "\t\t-0.6634364671742842\n",
      "\tright\n",
      "\t\t-0.6588196187931217\n",
      "(7, 7)\n",
      "\tup\n",
      "\t\t-0.3484817211416665\n",
      "\tdown\n",
      "\t\t-0.3459992859336704\n",
      "\tleft\n",
      "\t\t-0.3464360350921914\n",
      "\tright\n",
      "\t\t0.05229634548063699\n",
      "(7, 8)\n",
      "\tup\n",
      "\t\t-0.1647931838237071\n",
      "\tdown\n",
      "\t\t-0.2\n",
      "\tleft\n",
      "\t\t-0.15359889853972003\n",
      "\tright\n",
      "\t\t3.4250196867170417\n",
      "(7, 9)\n",
      "\tup\n",
      "\t\t-0.03579565243681927\n",
      "\tdown\n",
      "\t\t13.8634987474975\n",
      "\tleft\n",
      "\t\t-0.03149703673743003\n",
      "\tright\n",
      "\t\t0.25651552571567104\n",
      "(8, 0)\n",
      "\tup\n",
      "\t\t-3.2060009859900607\n",
      "\tdown\n",
      "\t\t-3.2062944959805106\n",
      "\tleft\n",
      "\t\t-3.208876205082865\n",
      "\tright\n",
      "\t\t-3.220640612545064\n",
      "(8, 1)\n",
      "\tup\n",
      "\t\t-3.214177539793546\n",
      "\tdown\n",
      "\t\t-3.206783416315532\n",
      "\tleft\n",
      "\t\t-3.205165172992667\n",
      "\tright\n",
      "\t\t-3.2069689861515904\n",
      "(8, 2)\n",
      "\tup\n",
      "\t\t-3.1855752981187164\n",
      "\tdown\n",
      "\t\t-3.189884039842066\n",
      "\tleft\n",
      "\t\t-3.1954344480875125\n",
      "\tright\n",
      "\t\t-3.1920691712806213\n",
      "(8, 3)\n",
      "\tup\n",
      "\t\t-3.1666191300478514\n",
      "\tdown\n",
      "\t\t-3.174411471340361\n",
      "\tleft\n",
      "\t\t-3.1736143414023434\n",
      "\tright\n",
      "\t\t-3.3228334559334547\n",
      "(8, 4)\n",
      "\tup\n",
      "\t\t-0.2\n",
      "\tdown\n",
      "\t\t-0.20010000000000003\n",
      "\tleft\n",
      "\t\t-0.21228347606038833\n",
      "\tright\n",
      "\t\t-0.1744037054305857\n",
      "(8, 5)\n",
      "\tup\n",
      "\t\t-0.6007512497041759\n",
      "\tdown\n",
      "\t\t-0.6032897944236661\n",
      "\tleft\n",
      "\t\t-0.7894284168822874\n",
      "\tright\n",
      "\t\t-0.6024394256210176\n",
      "(8, 6)\n",
      "\tup\n",
      "\t\t-0.39411601730870255\n",
      "\tdown\n",
      "\t\t-0.3699883168405535\n",
      "\tleft\n",
      "\t\t-0.39913180106782414\n",
      "\tright\n",
      "\t\t-0.3899236848894554\n",
      "(8, 7)\n",
      "\tup\n",
      "\t\t-0.19563645022725362\n",
      "\tdown\n",
      "\t\t0.12635291892586267\n",
      "\tleft\n",
      "\t\t-0.19619338100486525\n",
      "\tright\n",
      "\t\t-0.2\n",
      "(8, 8)\n",
      "\tup\n",
      "\t\t-0.0101\n",
      "\tdown\n",
      "\t\t0.851752124681765\n",
      "\tleft\n",
      "\t\t-0.01\n",
      "\tright\n",
      "\t\t-0.01\n",
      "(8, 9)\n",
      "\tup\n",
      "\t\t0.0024520284233519422\n",
      "\tdown\n",
      "\t\t18.504073685462952\n",
      "\tleft\n",
      "\t\t-1.3371380789397995\n",
      "\tright\n",
      "\t\t0.25894228251597995\n",
      "(9, 0)\n",
      "\tup\n",
      "\t\t-3.2037387490732763\n",
      "\tdown\n",
      "\t\t-3.1996189850721697\n",
      "\tleft\n",
      "\t\t-3.199828725636107\n",
      "\tright\n",
      "\t\t-3.202965188203775\n",
      "(9, 1)\n",
      "\tup\n",
      "\t\t-3.2012700102153078\n",
      "\tdown\n",
      "\t\t-3.1993438064176227\n",
      "\tleft\n",
      "\t\t-3.1979700901945356\n",
      "\tright\n",
      "\t\t-3.191538575749863\n",
      "(9, 2)\n",
      "\tup\n",
      "\t\t-3.189616785072762\n",
      "\tdown\n",
      "\t\t-3.1893849844186226\n",
      "\tleft\n",
      "\t\t-3.1812937838486275\n",
      "\tright\n",
      "\t\t-3.1837560416541724\n",
      "(9, 3)\n",
      "\tup\n",
      "\t\t-3.165464336326296\n",
      "\tdown\n",
      "\t\t-3.169384037357618\n",
      "\tleft\n",
      "\t\t-3.172277630778017\n",
      "\tright\n",
      "\t\t-3.49065847110253\n",
      "(9, 4)\n",
      "\tup\n",
      "\t\t-0.2\n",
      "\tdown\n",
      "\t\t-0.2\n",
      "\tleft\n",
      "\t\t-0.19557379485856258\n",
      "\tright\n",
      "\t\t-0.16187134591729804\n",
      "(9, 5)\n",
      "\tup\n",
      "\t\t-0.3978884364647761\n",
      "\tdown\n",
      "\t\t-0.4000000000000002\n",
      "\tleft\n",
      "\t\t-0.7885858199\n",
      "\tright\n",
      "\t\t-0.37267411669813855\n",
      "(9, 6)\n",
      "\tup\n",
      "\t\t-0.20679517088668325\n",
      "\tdown\n",
      "\t\t-0.19801234891753258\n",
      "\tleft\n",
      "\t\t-0.1846635738179518\n",
      "\tright\n",
      "\t\t1.152787238091403\n",
      "(9, 7)\n",
      "\tup\n",
      "\t\t-0.050790031754585914\n",
      "\tdown\n",
      "\t\t-0.05\n",
      "\tleft\n",
      "\t\t-0.0781143635128821\n",
      "\tright\n",
      "\t\t5.984669857251654\n",
      "(9, 8)\n",
      "\tup\n",
      "\t\t-0.5891342204550001\n",
      "\tdown\n",
      "\t\t0.09257535724723781\n",
      "\tleft\n",
      "\t\t-0.006121161192825577\n",
      "\tright\n",
      "\t\t14.248327812662712\n",
      "(9, 9)\n",
      "\tup\n",
      "\t\t0\n",
      "\tdown\n",
      "\t\t0\n",
      "\tleft\n",
      "\t\t0\n",
      "\tright\n",
      "\t\t0\n"
     ]
    }
   ],
   "source": [
    "Viz_q_table(agent.q_table)"
   ]
  },
  {
   "cell_type": "markdown",
   "metadata": {
    "id": "iqh4IYV6ZeCA"
   },
   "source": [
    "\n",
    "\n",
    "---\n",
    "\n"
   ]
  }
 ],
 "metadata": {
  "accelerator": "GPU",
  "colab": {
   "collapsed_sections": [],
   "name": "(Lab)  Reinforcement_Learning.ipynb",
   "provenance": [],
   "toc_visible": true
  },
  "kernelspec": {
   "display_name": "Python 3",
   "language": "python",
   "name": "python3"
  },
  "language_info": {
   "codemirror_mode": {
    "name": "ipython",
    "version": 3
   },
   "file_extension": ".py",
   "mimetype": "text/x-python",
   "name": "python",
   "nbconvert_exporter": "python",
   "pygments_lexer": "ipython3",
   "version": "3.8.8"
  }
 },
 "nbformat": 4,
 "nbformat_minor": 1
}
