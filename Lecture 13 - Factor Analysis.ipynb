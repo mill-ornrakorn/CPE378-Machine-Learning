{
 "cells": [
  {
   "cell_type": "markdown",
   "metadata": {},
   "source": [
    "<img src=\"http://bigdataexperience.org/BX/wp-content/uploads/2016/05/BX-FULL.png\" width=\"200\" height=\"200\" alt=\"Big Data Experience Center, King Mongkut's University of Technology Thonburi\">"
   ]
  },
  {
   "cell_type": "markdown",
   "metadata": {},
   "source": [
    "# <center>CPE378 Machine Learning</center>\n",
    "# <center>Lecture 13 - Factor Analysis</center>\n",
    "---"
   ]
  },
  {
   "cell_type": "markdown",
   "metadata": {
    "toc": true
   },
   "source": [
    "<h1>Table of Contents<span class=\"tocSkip\"></span></h1>\n",
    "<div class=\"toc\"><ul class=\"toc-item\"><li><span><a href=\"#Ratings-of-acquiantances\" data-toc-modified-id=\"Ratings-of-acquiantances-1\"><span class=\"toc-item-num\">1&nbsp;&nbsp;</span>Ratings of acquiantances</a></span><ul class=\"toc-item\"><li><span><a href=\"#Load-data\" data-toc-modified-id=\"Load-data-1.1\"><span class=\"toc-item-num\">1.1&nbsp;&nbsp;</span>Load data</a></span></li><li><span><a href=\"#Determine-appropriate-number-of-common-factors\" data-toc-modified-id=\"Determine-appropriate-number-of-common-factors-1.2\"><span class=\"toc-item-num\">1.2&nbsp;&nbsp;</span>Determine appropriate number of common factors</a></span></li><li><span><a href=\"#Apply-factor-analysis\" data-toc-modified-id=\"Apply-factor-analysis-1.3\"><span class=\"toc-item-num\">1.3&nbsp;&nbsp;</span>Apply factor analysis</a></span></li></ul></li><li><span><a href=\"#Factor-rotation\" data-toc-modified-id=\"Factor-rotation-2\"><span class=\"toc-item-num\">2&nbsp;&nbsp;</span>Factor rotation</a></span><ul class=\"toc-item\"><li><span><a href=\"#Fit-model-with-varimax-rotation\" data-toc-modified-id=\"Fit-model-with-varimax-rotation-2.1\"><span class=\"toc-item-num\">2.1&nbsp;&nbsp;</span>Fit model with varimax rotation</a></span></li><li><span><a href=\"#Show-factor-loadings\" data-toc-modified-id=\"Show-factor-loadings-2.2\"><span class=\"toc-item-num\">2.2&nbsp;&nbsp;</span>Show factor loadings</a></span></li></ul></li><li><span><a href=\"#Factor-scores\" data-toc-modified-id=\"Factor-scores-3\"><span class=\"toc-item-num\">3&nbsp;&nbsp;</span>Factor scores</a></span></li><li><span><a href=\"#Your-Turn:-Customer-preference-data\" data-toc-modified-id=\"Your-Turn:-Customer-preference-data-4\"><span class=\"toc-item-num\">4&nbsp;&nbsp;</span><font color=\"orange\">Your Turn: Customer preference data</font></a></span></li></ul></div>"
   ]
  },
  {
   "cell_type": "code",
   "execution_count": 1,
   "metadata": {},
   "outputs": [
    {
     "name": "stdout",
     "output_type": "stream",
     "text": [
      "Numpy version 1.20.1\n",
      "Pandas version 1.2.4\n",
      "Seaborn version 0.11.1\n",
      "Statsmodels version 0.12.2\n"
     ]
    }
   ],
   "source": [
    "import warnings; \n",
    "warnings.filterwarnings(\"ignore\")\n",
    "warnings.simplefilter(action=\"ignore\",category=UserWarning)\n",
    "warnings.simplefilter(action=\"ignore\",category=FutureWarning)\n",
    "\n",
    "import matplotlib.pyplot as plt\n",
    "#plt.style.use('ggplot')\n",
    "plt.style.use('seaborn-muted')\n",
    "plt.rcParams['figure.figsize'] = (8, 8)\n",
    "plt.rcParams['grid.linestyle'] = ':'   \n",
    "plt.rcParams['axes.grid'] = False\n",
    "\n",
    "import seaborn as sns\n",
    "sns.set_style(\"whitegrid\", {'axes.grid' : False})\n",
    "#sns.color_palette(\"RdBu\", n_colors=10)\n",
    "\n",
    "# Interactive plots embedded within the notebook\n",
    "#%matplotlib notebook \n",
    "# Static images of plots embedded within the notebook\n",
    "%matplotlib inline   \n",
    "%config InlineBackend.figure_formats = {'png', 'retina'}\n",
    "\n",
    "from IPython.core.interactiveshell import InteractiveShell\n",
    "InteractiveShell.ast_node_interactivity = \"all\"\n",
    "\n",
    "import numpy as np\n",
    "import matplotlib.pyplot as plt\n",
    "import pandas as pd\n",
    "import statsmodels as sm\n",
    "\n",
    "\n",
    "#pd.options.plotting.backend = \"plotly\" \n",
    "# Conflict with options in original matplotlib.\n",
    "\n",
    "print('Numpy version', np.__version__)\n",
    "print('Pandas version', pd.__version__)\n",
    "print('Seaborn version', sns.__version__)\n",
    "print('Statsmodels version', sm.__version__)"
   ]
  },
  {
   "cell_type": "markdown",
   "metadata": {},
   "source": [
    "**Install factor analyzer package first..** \n",
    "\n",
    "pip install factor_analyzer\n",
    "\n",
    "See https://factor-analyzer.readthedocs.io/en/latest/factor_analyzer.html"
   ]
  },
  {
   "cell_type": "code",
   "execution_count": 2,
   "metadata": {},
   "outputs": [],
   "source": [
    "#pip install factor_analyzer"
   ]
  },
  {
   "cell_type": "code",
   "execution_count": 3,
   "metadata": {},
   "outputs": [],
   "source": [
    "# Import required libraries\n",
    "import pandas as pd\n",
    "from sklearn.datasets import load_iris\n",
    "from factor_analyzer import FactorAnalyzer\n",
    "import matplotlib.pyplot as plt"
   ]
  },
  {
   "cell_type": "markdown",
   "metadata": {},
   "source": [
    "## Ratings of acquiantances"
   ]
  },
  {
   "cell_type": "markdown",
   "metadata": {},
   "source": [
    "### Load data"
   ]
  },
  {
   "cell_type": "code",
   "execution_count": 4,
   "metadata": {},
   "outputs": [
    {
     "data": {
      "text/html": [
       "<div>\n",
       "<style scoped>\n",
       "    .dataframe tbody tr th:only-of-type {\n",
       "        vertical-align: middle;\n",
       "    }\n",
       "\n",
       "    .dataframe tbody tr th {\n",
       "        vertical-align: top;\n",
       "    }\n",
       "\n",
       "    .dataframe thead th {\n",
       "        text-align: right;\n",
       "    }\n",
       "</style>\n",
       "<table border=\"1\" class=\"dataframe\">\n",
       "  <thead>\n",
       "    <tr style=\"text-align: right;\">\n",
       "      <th></th>\n",
       "      <th>Kind</th>\n",
       "      <th>Intelligent</th>\n",
       "      <th>Happy</th>\n",
       "      <th>Likable</th>\n",
       "      <th>Just</th>\n",
       "    </tr>\n",
       "  </thead>\n",
       "  <tbody>\n",
       "    <tr>\n",
       "      <th>Kind</th>\n",
       "      <td>1.0000</td>\n",
       "      <td>0.2955</td>\n",
       "      <td>0.8806</td>\n",
       "      <td>0.9954</td>\n",
       "      <td>0.5446</td>\n",
       "    </tr>\n",
       "    <tr>\n",
       "      <th>Intelligent</th>\n",
       "      <td>0.2955</td>\n",
       "      <td>1.0000</td>\n",
       "      <td>-0.0217</td>\n",
       "      <td>0.3262</td>\n",
       "      <td>0.8373</td>\n",
       "    </tr>\n",
       "    <tr>\n",
       "      <th>Happy</th>\n",
       "      <td>0.8806</td>\n",
       "      <td>-0.0217</td>\n",
       "      <td>1.0000</td>\n",
       "      <td>0.8667</td>\n",
       "      <td>0.1303</td>\n",
       "    </tr>\n",
       "    <tr>\n",
       "      <th>Likable</th>\n",
       "      <td>0.9954</td>\n",
       "      <td>0.3262</td>\n",
       "      <td>0.8667</td>\n",
       "      <td>1.0000</td>\n",
       "      <td>0.5440</td>\n",
       "    </tr>\n",
       "    <tr>\n",
       "      <th>Just</th>\n",
       "      <td>0.5446</td>\n",
       "      <td>0.8373</td>\n",
       "      <td>0.1303</td>\n",
       "      <td>0.5440</td>\n",
       "      <td>1.0000</td>\n",
       "    </tr>\n",
       "  </tbody>\n",
       "</table>\n",
       "</div>"
      ],
      "text/plain": [
       "              Kind  Intelligent   Happy  Likable   Just\n",
       "Kind        1.0000       0.2955  0.8806   0.9954 0.5446\n",
       "Intelligent 0.2955       1.0000 -0.0217   0.3262 0.8373\n",
       "Happy       0.8806      -0.0217  1.0000   0.8667 0.1303\n",
       "Likable     0.9954       0.3262  0.8667   1.0000 0.5440\n",
       "Just        0.5446       0.8373  0.1303   0.5440 1.0000"
      ]
     },
     "execution_count": 4,
     "metadata": {},
     "output_type": "execute_result"
    }
   ],
   "source": [
    "import pandas as pd\n",
    "import numpy as np\n",
    "\n",
    "np.set_printoptions(precision=4)\n",
    "pd.set_option('display.float_format', lambda x: '%.4f' % x)\n",
    "#pd.set_option('display.precision', 4)\n",
    "\n",
    "ratings_df = pd.DataFrame(data=[[1,5,5,1,1],\n",
    "                                [8,9,7,9,8],\n",
    "                                [9,8,9,9,8],\n",
    "                                [9,9,9,9,9],\n",
    "                                [1,9,1,1,9],\n",
    "                                [9,7,7,9,9],\n",
    "                                [9,7,9,9,7]],\n",
    "                          columns = ['Kind','Intelligent','Happy','Likable','Just'],\n",
    "                          index = ['P1','P2','P3','P4','P5','P6','P7'])\n",
    "ratings_df.corr()\n",
    "#norm_df = (df - df.mean(axis=0))/df.std(axis=0)\n",
    "#groups={'Personality':list(df.columns)}"
   ]
  },
  {
   "cell_type": "markdown",
   "metadata": {},
   "source": [
    "### Determine appropriate number of common factors"
   ]
  },
  {
   "cell_type": "code",
   "execution_count": 5,
   "metadata": {},
   "outputs": [
    {
     "data": {
      "text/plain": [
       "array([ 3.2632e+00,  1.5383e+00,  1.6785e-01,  3.0592e-02, -6.4989e-17])"
      ]
     },
     "execution_count": 5,
     "metadata": {},
     "output_type": "execute_result"
    }
   ],
   "source": [
    "import numpy as np\n",
    "\n",
    "eigval,eigvec=np.linalg.eig(ratings_df.corr())\n",
    "  \n",
    "# Sort descendingly\n",
    "sorted_eigval = -np.sort(-eigval)\n",
    "sorted_eigval"
   ]
  },
  {
   "cell_type": "code",
   "execution_count": 6,
   "metadata": {},
   "outputs": [
    {
     "data": {
      "image/png": "[encoded data removed]",
      "text/plain": [
       "<Figure size 432x288 with 1 Axes>"
      ]
     },
     "metadata": {
      "image/png": {
       "height": 248,
       "width": 370
      },
      "needs_background": "light"
     },
     "output_type": "display_data"
    }
   ],
   "source": [
    "plt.plot(sorted_eigval, '-o');"
   ]
  },
  {
   "cell_type": "code",
   "execution_count": 7,
   "metadata": {},
   "outputs": [
    {
     "data": {
      "image/png": "[encoded data removed]",
      "text/plain": [
       "<Figure size 432x288 with 1 Axes>"
      ]
     },
     "metadata": {
      "image/png": {
       "height": 248,
       "width": 372
      },
      "needs_background": "light"
     },
     "output_type": "display_data"
    }
   ],
   "source": [
    "plt.plot(np.cumsum(sorted_eigval)*100/len(sorted_eigval), '-o');"
   ]
  },
  {
   "cell_type": "markdown",
   "metadata": {},
   "source": [
    "### Apply factor analysis\n",
    "Create factor analysis object and perform factor analysis"
   ]
  },
  {
   "cell_type": "code",
   "execution_count": 8,
   "metadata": {},
   "outputs": [
    {
     "data": {
      "text/plain": [
       "FactorAnalyzer(n_factors=2, rotation=None, rotation_kwargs={})"
      ]
     },
     "execution_count": 8,
     "metadata": {},
     "output_type": "execute_result"
    },
    {
     "name": "stdout",
     "output_type": "stream",
     "text": [
      "[[ 0.9771 -0.2123]\n",
      " [ 0.4692  0.7038]\n",
      " [ 0.777  -0.5632]\n",
      " [ 0.9768 -0.1911]\n",
      " [ 0.6994  0.717 ]]\n"
     ]
    }
   ],
   "source": [
    "import numpy as np\n",
    "from factor_analyzer import FactorAnalyzer\n",
    "\n",
    "np.set_printoptions(precision=4)\n",
    "\n",
    "NUM_FACTORS=2\n",
    "fa = FactorAnalyzer(n_factors=2, rotation=None, is_corr_matrix=False)\n",
    "\n",
    "# Use method='principal'to get the same results as in the textbook.\n",
    "\n",
    "fa.fit(ratings_df)\n",
    "print(fa.loadings_)"
   ]
  },
  {
   "cell_type": "markdown",
   "metadata": {},
   "source": [
    "## Factor rotation"
   ]
  },
  {
   "cell_type": "markdown",
   "metadata": {},
   "source": [
    "### Fit model with varimax rotation"
   ]
  },
  {
   "cell_type": "code",
   "execution_count": 9,
   "metadata": {},
   "outputs": [
    {
     "data": {
      "text/plain": [
       "FactorAnalyzer(n_factors=2, rotation='varimax', rotation_kwargs={})"
      ]
     },
     "execution_count": 9,
     "metadata": {},
     "output_type": "execute_result"
    }
   ],
   "source": [
    "# Create factor analysis object and perform factor analysis\n",
    "\n",
    "from factor_analyzer import FactorAnalyzer\n",
    "\n",
    "\n",
    "NUM_FACTORS=2\n",
    "fa = FactorAnalyzer(n_factors=NUM_FACTORS, rotation='varimax') \n",
    "fa.fit(ratings_df)"
   ]
  },
  {
   "cell_type": "markdown",
   "metadata": {},
   "source": [
    "### Show factor loadings"
   ]
  },
  {
   "cell_type": "code",
   "execution_count": 10,
   "metadata": {},
   "outputs": [
    {
     "name": "stdout",
     "output_type": "stream",
     "text": [
      "[[ 0.9511  0.3088]\n",
      " [ 0.0509  0.8443]\n",
      " [ 0.9549 -0.0952]\n",
      " [ 0.9401  0.3269]\n",
      " [ 0.2431  0.9717]]\n"
     ]
    }
   ],
   "source": [
    "print(fa.loadings_)"
   ]
  },
  {
   "cell_type": "markdown",
   "metadata": {},
   "source": [
    "## Factor scores"
   ]
  },
  {
   "cell_type": "code",
   "execution_count": 11,
   "metadata": {},
   "outputs": [
    {
     "data": {
      "text/plain": [
       "array([[-0.9453, -2.1719],\n",
       "       [ 0.502 ,  0.1426],\n",
       "       [ 0.6973,  0.0801],\n",
       "       [ 0.5664,  0.4922],\n",
       "       [-2.0664,  1.1875],\n",
       "       [ 0.4961,  0.5078],\n",
       "       [ 0.8188, -0.3496]])"
      ]
     },
     "execution_count": 11,
     "metadata": {},
     "output_type": "execute_result"
    }
   ],
   "source": [
    "fa.transform(ratings_df)"
   ]
  },
  {
   "cell_type": "code",
   "execution_count": 12,
   "metadata": {
    "scrolled": true
   },
   "outputs": [],
   "source": [
    "scores_df = pd.DataFrame(data=fa.transform(ratings_df),\n",
    "                         columns=['F'+str(i+1) for i in range(NUM_FACTORS)])\n",
    "scores_df.set_index(ratings_df.index, inplace=True)\n",
    "scores_df.index.rename('Person', inplace=True)"
   ]
  },
  {
   "cell_type": "code",
   "execution_count": 13,
   "metadata": {},
   "outputs": [
    {
     "data": {
      "text/html": [
       "<div>\n",
       "<style scoped>\n",
       "    .dataframe tbody tr th:only-of-type {\n",
       "        vertical-align: middle;\n",
       "    }\n",
       "\n",
       "    .dataframe tbody tr th {\n",
       "        vertical-align: top;\n",
       "    }\n",
       "\n",
       "    .dataframe thead th {\n",
       "        text-align: right;\n",
       "    }\n",
       "</style>\n",
       "<table border=\"1\" class=\"dataframe\">\n",
       "  <thead>\n",
       "    <tr style=\"text-align: right;\">\n",
       "      <th></th>\n",
       "      <th>F1</th>\n",
       "      <th>F2</th>\n",
       "    </tr>\n",
       "    <tr>\n",
       "      <th>Person</th>\n",
       "      <th></th>\n",
       "      <th></th>\n",
       "    </tr>\n",
       "  </thead>\n",
       "  <tbody>\n",
       "    <tr>\n",
       "      <th>P1</th>\n",
       "      <td>-0.9453</td>\n",
       "      <td>-2.1719</td>\n",
       "    </tr>\n",
       "    <tr>\n",
       "      <th>P2</th>\n",
       "      <td>0.5020</td>\n",
       "      <td>0.1426</td>\n",
       "    </tr>\n",
       "    <tr>\n",
       "      <th>P3</th>\n",
       "      <td>0.6973</td>\n",
       "      <td>0.0801</td>\n",
       "    </tr>\n",
       "    <tr>\n",
       "      <th>P4</th>\n",
       "      <td>0.5664</td>\n",
       "      <td>0.4922</td>\n",
       "    </tr>\n",
       "    <tr>\n",
       "      <th>P5</th>\n",
       "      <td>-2.0664</td>\n",
       "      <td>1.1875</td>\n",
       "    </tr>\n",
       "    <tr>\n",
       "      <th>P6</th>\n",
       "      <td>0.4961</td>\n",
       "      <td>0.5078</td>\n",
       "    </tr>\n",
       "    <tr>\n",
       "      <th>P7</th>\n",
       "      <td>0.8188</td>\n",
       "      <td>-0.3496</td>\n",
       "    </tr>\n",
       "  </tbody>\n",
       "</table>\n",
       "</div>"
      ],
      "text/plain": [
       "            F1      F2\n",
       "Person                \n",
       "P1     -0.9453 -2.1719\n",
       "P2      0.5020  0.1426\n",
       "P3      0.6973  0.0801\n",
       "P4      0.5664  0.4922\n",
       "P5     -2.0664  1.1875\n",
       "P6      0.4961  0.5078\n",
       "P7      0.8188 -0.3496"
      ]
     },
     "execution_count": 13,
     "metadata": {},
     "output_type": "execute_result"
    },
    {
     "data": {
      "text/html": [
       "<div>\n",
       "<style scoped>\n",
       "    .dataframe tbody tr th:only-of-type {\n",
       "        vertical-align: middle;\n",
       "    }\n",
       "\n",
       "    .dataframe tbody tr th {\n",
       "        vertical-align: top;\n",
       "    }\n",
       "\n",
       "    .dataframe thead th {\n",
       "        text-align: right;\n",
       "    }\n",
       "</style>\n",
       "<table border=\"1\" class=\"dataframe\">\n",
       "  <thead>\n",
       "    <tr style=\"text-align: right;\">\n",
       "      <th></th>\n",
       "      <th>F1</th>\n",
       "      <th>F2</th>\n",
       "    </tr>\n",
       "  </thead>\n",
       "  <tbody>\n",
       "    <tr>\n",
       "      <th>F1</th>\n",
       "      <td>1.0000</td>\n",
       "      <td>-0.0040</td>\n",
       "    </tr>\n",
       "    <tr>\n",
       "      <th>F2</th>\n",
       "      <td>-0.0040</td>\n",
       "      <td>1.0000</td>\n",
       "    </tr>\n",
       "  </tbody>\n",
       "</table>\n",
       "</div>"
      ],
      "text/plain": [
       "        F1      F2\n",
       "F1  1.0000 -0.0040\n",
       "F2 -0.0040  1.0000"
      ]
     },
     "execution_count": 13,
     "metadata": {},
     "output_type": "execute_result"
    }
   ],
   "source": [
    "scores_df\n",
    "scores_df.corr()"
   ]
  },
  {
   "cell_type": "code",
   "execution_count": 14,
   "metadata": {
    "scrolled": true
   },
   "outputs": [
    {
     "ename": "TypeError",
     "evalue": "unhashable type: 'slice'",
     "output_type": "error",
     "traceback": [
      "\u001b[1;31m---------------------------------------------------------------------------\u001b[0m",
      "\u001b[1;31mTypeError\u001b[0m                                 Traceback (most recent call last)",
      "\u001b[1;32m<ipython-input-14-59a685a274ca>\u001b[0m in \u001b[0;36m<module>\u001b[1;34m\u001b[0m\n\u001b[0;32m      5\u001b[0m \u001b[0mplt\u001b[0m\u001b[1;33m.\u001b[0m\u001b[0mylabel\u001b[0m\u001b[1;33m(\u001b[0m\u001b[1;34m'F2\\n (Logical)'\u001b[0m\u001b[1;33m,\u001b[0m \u001b[0mrotation\u001b[0m\u001b[1;33m=\u001b[0m\u001b[1;36m0\u001b[0m\u001b[1;33m,\u001b[0m \u001b[0mloc\u001b[0m\u001b[1;33m=\u001b[0m\u001b[1;34m'top'\u001b[0m\u001b[1;33m,\u001b[0m \u001b[0mlabelpad\u001b[0m\u001b[1;33m=\u001b[0m\u001b[1;33m-\u001b[0m\u001b[1;36m10\u001b[0m\u001b[1;33m)\u001b[0m\u001b[1;33m\u001b[0m\u001b[1;33m\u001b[0m\u001b[0m\n\u001b[0;32m      6\u001b[0m \u001b[0mplt\u001b[0m\u001b[1;33m.\u001b[0m\u001b[0mxlim\u001b[0m\u001b[1;33m(\u001b[0m\u001b[1;33m-\u001b[0m\u001b[1;36m2.5\u001b[0m\u001b[1;33m,\u001b[0m\u001b[1;36m2.5\u001b[0m\u001b[1;33m)\u001b[0m\u001b[1;33m;\u001b[0m \u001b[0mplt\u001b[0m\u001b[1;33m.\u001b[0m\u001b[0mylim\u001b[0m\u001b[1;33m(\u001b[0m\u001b[1;33m-\u001b[0m\u001b[1;36m2.5\u001b[0m\u001b[1;33m,\u001b[0m\u001b[1;36m2.5\u001b[0m\u001b[1;33m)\u001b[0m\u001b[1;33m\u001b[0m\u001b[1;33m\u001b[0m\u001b[0m\n\u001b[1;32m----> 7\u001b[1;33m \u001b[0mplt\u001b[0m\u001b[1;33m.\u001b[0m\u001b[0mgca\u001b[0m\u001b[1;33m(\u001b[0m\u001b[1;33m)\u001b[0m\u001b[1;33m.\u001b[0m\u001b[0mspines\u001b[0m\u001b[1;33m[\u001b[0m\u001b[1;33m:\u001b[0m\u001b[1;33m]\u001b[0m\u001b[1;33m.\u001b[0m\u001b[0mset_position\u001b[0m\u001b[1;33m(\u001b[0m\u001b[1;34m'center'\u001b[0m\u001b[1;33m)\u001b[0m\u001b[1;33m;\u001b[0m\u001b[1;33m\u001b[0m\u001b[1;33m\u001b[0m\u001b[0m\n\u001b[0m",
      "\u001b[1;31mTypeError\u001b[0m: unhashable type: 'slice'"
     ]
    },
    {
     "data": {
      "image/png": "[encoded data removed]",
      "text/plain": [
       "<Figure size 408.25x360 with 1 Axes>"
      ]
     },
     "metadata": {
      "image/png": {
       "height": 419,
       "width": 449
      },
      "needs_background": "light"
     },
     "output_type": "display_data"
    }
   ],
   "source": [
    "sns.set_style({'axes.grid' : True})\n",
    "sns.set_context({\"axes.labelsize\": '16'})\n",
    "sns.relplot(data=scores_df, x=\"F1\", y=\"F2\", hue=\"Person\", s=200, alpha=0.8, palette='muted')\n",
    "plt.xlabel('F1\\n (Amiability)', loc='right')\n",
    "plt.ylabel('F2\\n (Logical)', rotation=0, loc='top', labelpad=-10)\n",
    "plt.xlim(-2.5,2.5); plt.ylim(-2.5,2.5)\n",
    "plt.gca().spines[:].set_position('center');"
   ]
  },
  {
   "cell_type": "markdown",
   "metadata": {},
   "source": [
    "## <font color='orange'>Your Turn: Customer preference data</font>"
   ]
  },
  {
   "cell_type": "code",
   "execution_count": 15,
   "metadata": {},
   "outputs": [
    {
     "data": {
      "text/html": [
       "<div>\n",
       "<style scoped>\n",
       "    .dataframe tbody tr th:only-of-type {\n",
       "        vertical-align: middle;\n",
       "    }\n",
       "\n",
       "    .dataframe tbody tr th {\n",
       "        vertical-align: top;\n",
       "    }\n",
       "\n",
       "    .dataframe thead th {\n",
       "        text-align: right;\n",
       "    }\n",
       "</style>\n",
       "<table border=\"1\" class=\"dataframe\">\n",
       "  <thead>\n",
       "    <tr style=\"text-align: right;\">\n",
       "      <th></th>\n",
       "      <th>Taste</th>\n",
       "      <th>Good buy for money</th>\n",
       "      <th>Favor</th>\n",
       "      <th>Suitable for snack</th>\n",
       "      <th>Provides lots of energy</th>\n",
       "    </tr>\n",
       "  </thead>\n",
       "  <tbody>\n",
       "    <tr>\n",
       "      <th>Taste</th>\n",
       "      <td>1.0000</td>\n",
       "      <td>0.0200</td>\n",
       "      <td>0.9600</td>\n",
       "      <td>0.4200</td>\n",
       "      <td>0.0100</td>\n",
       "    </tr>\n",
       "    <tr>\n",
       "      <th>Good buy for money</th>\n",
       "      <td>0.0200</td>\n",
       "      <td>1.0000</td>\n",
       "      <td>0.1300</td>\n",
       "      <td>0.7100</td>\n",
       "      <td>0.8500</td>\n",
       "    </tr>\n",
       "    <tr>\n",
       "      <th>Favor</th>\n",
       "      <td>0.9600</td>\n",
       "      <td>0.1300</td>\n",
       "      <td>1.0000</td>\n",
       "      <td>0.5000</td>\n",
       "      <td>0.1100</td>\n",
       "    </tr>\n",
       "    <tr>\n",
       "      <th>Suitable for snack</th>\n",
       "      <td>0.4200</td>\n",
       "      <td>0.7100</td>\n",
       "      <td>0.5000</td>\n",
       "      <td>1.0000</td>\n",
       "      <td>0.7900</td>\n",
       "    </tr>\n",
       "    <tr>\n",
       "      <th>Provides lots of energy</th>\n",
       "      <td>0.0100</td>\n",
       "      <td>0.8500</td>\n",
       "      <td>0.1100</td>\n",
       "      <td>0.7900</td>\n",
       "      <td>1.0000</td>\n",
       "    </tr>\n",
       "  </tbody>\n",
       "</table>\n",
       "</div>"
      ],
      "text/plain": [
       "                         Taste  Good buy for money  Favor  Suitable for snack  \\\n",
       "Taste                   1.0000              0.0200 0.9600              0.4200   \n",
       "Good buy for money      0.0200              1.0000 0.1300              0.7100   \n",
       "Favor                   0.9600              0.1300 1.0000              0.5000   \n",
       "Suitable for snack      0.4200              0.7100 0.5000              1.0000   \n",
       "Provides lots of energy 0.0100              0.8500 0.1100              0.7900   \n",
       "\n",
       "                         Provides lots of energy  \n",
       "Taste                                     0.0100  \n",
       "Good buy for money                        0.8500  \n",
       "Favor                                     0.1100  \n",
       "Suitable for snack                        0.7900  \n",
       "Provides lots of energy                   1.0000  "
      ]
     },
     "execution_count": 15,
     "metadata": {},
     "output_type": "execute_result"
    }
   ],
   "source": [
    "import pandas as pd\n",
    "\n",
    "\n",
    "customer_corr = pd.DataFrame(data=[[1,0.02,0.96,0.42,0.01],\n",
    "                                [0.02,1,0.13,0.71,0.85],\n",
    "                                [0.96,0.13,1,0.5,0.11],\n",
    "                                [0.42,0.71,0.5,1,0.79],\n",
    "                                [0.01,0.85,0.11,0.79,1]],\n",
    "                          columns = ['Taste','Good buy for money','Favor','Suitable for snack','Provides lots of energy'],\n",
    "                          index = ['Taste','Good buy for money','Favor','Suitable for snack','Provides lots of energy'])\n",
    "customer_corr"
   ]
  },
  {
   "cell_type": "code",
   "execution_count": 16,
   "metadata": {},
   "outputs": [
    {
     "data": {
      "text/plain": [
       "array([2.8531, 1.8063, 0.2045, 0.1024, 0.0337])"
      ]
     },
     "execution_count": 16,
     "metadata": {},
     "output_type": "execute_result"
    }
   ],
   "source": [
    "import numpy as np\n",
    "\n",
    "eigval,eigvec=np.linalg.eig(customer_corr)\n",
    "  \n",
    "# Sort descendingly\n",
    "sorted_eigval = -np.sort(-eigval)\n",
    "sorted_eigval"
   ]
  },
  {
   "cell_type": "code",
   "execution_count": 17,
   "metadata": {},
   "outputs": [
    {
     "data": {
      "image/png": "[encoded data removed]",
      "text/plain": [
       "<Figure size 432x288 with 1 Axes>"
      ]
     },
     "metadata": {
      "image/png": {
       "height": 248,
       "width": 370
      },
      "needs_background": "light"
     },
     "output_type": "display_data"
    }
   ],
   "source": [
    "plt.plot(sorted_eigval, '-o');"
   ]
  },
  {
   "cell_type": "code",
   "execution_count": 18,
   "metadata": {},
   "outputs": [
    {
     "data": {
      "image/png": "[encoded data removed]",
      "text/plain": [
       "<Figure size 432x288 with 1 Axes>"
      ]
     },
     "metadata": {
      "image/png": {
       "height": 248,
       "width": 372
      },
      "needs_background": "light"
     },
     "output_type": "display_data"
    }
   ],
   "source": [
    "plt.plot(np.cumsum(sorted_eigval)*100/len(sorted_eigval), '-o');"
   ]
  },
  {
   "cell_type": "code",
   "execution_count": 68,
   "metadata": {},
   "outputs": [
    {
     "data": {
      "text/plain": [
       "FactorAnalyzer(is_corr_matrix=True, n_factors=2, rotation=None,\n",
       "               rotation_kwargs={})"
      ]
     },
     "execution_count": 68,
     "metadata": {},
     "output_type": "execute_result"
    },
    {
     "name": "stdout",
     "output_type": "stream",
     "text": [
      "[[ 0.5978  0.7919]\n",
      " [ 0.7096 -0.5029]\n",
      " [ 0.6732  0.7041]\n",
      " [ 0.8974 -0.1474]\n",
      " [ 0.7834 -0.585 ]]\n"
     ]
    }
   ],
   "source": [
    "import numpy as np\n",
    "from factor_analyzer import FactorAnalyzer\n",
    "\n",
    "np.set_printoptions(precision=4)\n",
    "\n",
    "NUM_FACTORS=2\n",
    "fa = FactorAnalyzer(n_factors=2, rotation=None, is_corr_matrix=True)\n",
    "\n",
    "# Use method='principal'to get the same results as in the textbook.\n",
    "\n",
    "fa.fit(customer_corr)\n",
    "print(fa.loadings_)"
   ]
  },
  {
   "cell_type": "code",
   "execution_count": 71,
   "metadata": {},
   "outputs": [
    {
     "data": {
      "text/plain": [
       "FactorAnalyzer(is_corr_matrix=True, n_factors=2, rotation='varimax',\n",
       "               rotation_kwargs={})"
      ]
     },
     "execution_count": 71,
     "metadata": {},
     "output_type": "execute_result"
    }
   ],
   "source": [
    "# Create factor analysis object and perform factor analysis\n",
    "\n",
    "from factor_analyzer import FactorAnalyzer\n",
    "\n",
    "\n",
    "NUM_FACTORS=2\n",
    "fa = FactorAnalyzer(n_factors=NUM_FACTORS, rotation='varimax', is_corr_matrix=True) \n",
    "fa.fit(customer_corr)"
   ]
  },
  {
   "cell_type": "code",
   "execution_count": 72,
   "metadata": {},
   "outputs": [
    {
     "name": "stdout",
     "output_type": "stream",
     "text": [
      "[[ 0.0223  0.9919]\n",
      " [ 0.8697  0.0066]\n",
      " [ 0.1348  0.9648]\n",
      " [ 0.8143  0.4048]\n",
      " [ 0.9775 -0.0169]]\n"
     ]
    }
   ],
   "source": [
    "print(fa.loadings_)"
   ]
  },
  {
   "cell_type": "code",
   "execution_count": 90,
   "metadata": {},
   "outputs": [],
   "source": [
    "faload = fa.loadings_"
   ]
  },
  {
   "cell_type": "code",
   "execution_count": 73,
   "metadata": {},
   "outputs": [
    {
     "data": {
      "text/plain": [
       "array([[-1.4009,  1.2186],\n",
       "       [ 0.7417, -1.0962],\n",
       "       [-1.0965,  1.1625],\n",
       "       [ 0.724 , -0.1362],\n",
       "       [ 1.0317, -1.1487]])"
      ]
     },
     "execution_count": 73,
     "metadata": {},
     "output_type": "execute_result"
    }
   ],
   "source": [
    "fa.transform(customer_corr)"
   ]
  },
  {
   "cell_type": "code",
   "execution_count": 74,
   "metadata": {},
   "outputs": [],
   "source": [
    "scores_df = pd.DataFrame(data=fa.transform(customer_corr),\n",
    "                         columns=['F'+str(i+1) for i in range(NUM_FACTORS)])\n",
    "scores_df.set_index(customer_corr.index, inplace=True)\n",
    "scores_df.index.rename('Person', inplace=True)"
   ]
  },
  {
   "cell_type": "code",
   "execution_count": 75,
   "metadata": {},
   "outputs": [
    {
     "data": {
      "text/html": [
       "<div>\n",
       "<style scoped>\n",
       "    .dataframe tbody tr th:only-of-type {\n",
       "        vertical-align: middle;\n",
       "    }\n",
       "\n",
       "    .dataframe tbody tr th {\n",
       "        vertical-align: top;\n",
       "    }\n",
       "\n",
       "    .dataframe thead th {\n",
       "        text-align: right;\n",
       "    }\n",
       "</style>\n",
       "<table border=\"1\" class=\"dataframe\">\n",
       "  <thead>\n",
       "    <tr style=\"text-align: right;\">\n",
       "      <th></th>\n",
       "      <th>F1</th>\n",
       "      <th>F2</th>\n",
       "    </tr>\n",
       "    <tr>\n",
       "      <th>Person</th>\n",
       "      <th></th>\n",
       "      <th></th>\n",
       "    </tr>\n",
       "  </thead>\n",
       "  <tbody>\n",
       "    <tr>\n",
       "      <th>Taste</th>\n",
       "      <td>-1.4009</td>\n",
       "      <td>1.2186</td>\n",
       "    </tr>\n",
       "    <tr>\n",
       "      <th>Good buy for money</th>\n",
       "      <td>0.7417</td>\n",
       "      <td>-1.0962</td>\n",
       "    </tr>\n",
       "    <tr>\n",
       "      <th>Favor</th>\n",
       "      <td>-1.0965</td>\n",
       "      <td>1.1625</td>\n",
       "    </tr>\n",
       "    <tr>\n",
       "      <th>Suitable for snack</th>\n",
       "      <td>0.7240</td>\n",
       "      <td>-0.1362</td>\n",
       "    </tr>\n",
       "    <tr>\n",
       "      <th>Provides lots of energy</th>\n",
       "      <td>1.0317</td>\n",
       "      <td>-1.1487</td>\n",
       "    </tr>\n",
       "  </tbody>\n",
       "</table>\n",
       "</div>"
      ],
      "text/plain": [
       "                             F1      F2\n",
       "Person                                 \n",
       "Taste                   -1.4009  1.2186\n",
       "Good buy for money       0.7417 -1.0962\n",
       "Favor                   -1.0965  1.1625\n",
       "Suitable for snack       0.7240 -0.1362\n",
       "Provides lots of energy  1.0317 -1.1487"
      ]
     },
     "execution_count": 75,
     "metadata": {},
     "output_type": "execute_result"
    },
    {
     "data": {
      "text/html": [
       "<div>\n",
       "<style scoped>\n",
       "    .dataframe tbody tr th:only-of-type {\n",
       "        vertical-align: middle;\n",
       "    }\n",
       "\n",
       "    .dataframe tbody tr th {\n",
       "        vertical-align: top;\n",
       "    }\n",
       "\n",
       "    .dataframe thead th {\n",
       "        text-align: right;\n",
       "    }\n",
       "</style>\n",
       "<table border=\"1\" class=\"dataframe\">\n",
       "  <thead>\n",
       "    <tr style=\"text-align: right;\">\n",
       "      <th></th>\n",
       "      <th>F1</th>\n",
       "      <th>F2</th>\n",
       "    </tr>\n",
       "  </thead>\n",
       "  <tbody>\n",
       "    <tr>\n",
       "      <th>F1</th>\n",
       "      <td>1.0000</td>\n",
       "      <td>-0.9511</td>\n",
       "    </tr>\n",
       "    <tr>\n",
       "      <th>F2</th>\n",
       "      <td>-0.9511</td>\n",
       "      <td>1.0000</td>\n",
       "    </tr>\n",
       "  </tbody>\n",
       "</table>\n",
       "</div>"
      ],
      "text/plain": [
       "        F1      F2\n",
       "F1  1.0000 -0.9511\n",
       "F2 -0.9511  1.0000"
      ]
     },
     "execution_count": 75,
     "metadata": {},
     "output_type": "execute_result"
    }
   ],
   "source": [
    "scores_df\n",
    "scores_df.corr()"
   ]
  },
  {
   "cell_type": "code",
   "execution_count": 116,
   "metadata": {},
   "outputs": [
    {
     "data": {
      "text/html": [
       "<div>\n",
       "<style scoped>\n",
       "    .dataframe tbody tr th:only-of-type {\n",
       "        vertical-align: middle;\n",
       "    }\n",
       "\n",
       "    .dataframe tbody tr th {\n",
       "        vertical-align: top;\n",
       "    }\n",
       "\n",
       "    .dataframe thead th {\n",
       "        text-align: right;\n",
       "    }\n",
       "</style>\n",
       "<table border=\"1\" class=\"dataframe\">\n",
       "  <thead>\n",
       "    <tr style=\"text-align: right;\">\n",
       "      <th></th>\n",
       "      <th>F1</th>\n",
       "      <th>F2</th>\n",
       "    </tr>\n",
       "    <tr>\n",
       "      <th>Attribute (Variable)</th>\n",
       "      <th></th>\n",
       "      <th></th>\n",
       "    </tr>\n",
       "  </thead>\n",
       "  <tbody>\n",
       "    <tr>\n",
       "      <th>Taste</th>\n",
       "      <td>0.0223</td>\n",
       "      <td>0.9919</td>\n",
       "    </tr>\n",
       "    <tr>\n",
       "      <th>Good buy for money</th>\n",
       "      <td>0.8697</td>\n",
       "      <td>0.0066</td>\n",
       "    </tr>\n",
       "    <tr>\n",
       "      <th>Favor</th>\n",
       "      <td>0.1348</td>\n",
       "      <td>0.9648</td>\n",
       "    </tr>\n",
       "    <tr>\n",
       "      <th>Suitable for snack</th>\n",
       "      <td>0.8143</td>\n",
       "      <td>0.4048</td>\n",
       "    </tr>\n",
       "    <tr>\n",
       "      <th>Provides lots of energy</th>\n",
       "      <td>0.9775</td>\n",
       "      <td>-0.0169</td>\n",
       "    </tr>\n",
       "  </tbody>\n",
       "</table>\n",
       "</div>"
      ],
      "text/plain": [
       "                            F1      F2\n",
       "Attribute (Variable)                  \n",
       "Taste                   0.0223  0.9919\n",
       "Good buy for money      0.8697  0.0066\n",
       "Favor                   0.1348  0.9648\n",
       "Suitable for snack      0.8143  0.4048\n",
       "Provides lots of energy 0.9775 -0.0169"
      ]
     },
     "execution_count": 116,
     "metadata": {},
     "output_type": "execute_result"
    }
   ],
   "source": [
    "customer_fa_loadings = pd.DataFrame(data=[[0.0223, 0.8697, 0.1348, 0.8143, 0.9775],\n",
    "                                 [0.9919, 0.0066, 0.9648, 0.4048, -0.0169]],\n",
    "                          index = ['F1','F2'],\n",
    "                          columns = ['Taste','Good buy for money','Favor','Suitable for snack','Provides lots of energy'])\n",
    "\n",
    "customer_fa_loadings2 = customer_fa_loadings.T\n",
    "customer_fa_loadings2.index.rename('Attribute (Variable)', inplace=True)\n",
    "customer_fa_loadings2 "
   ]
  },
  {
   "cell_type": "code",
   "execution_count": 131,
   "metadata": {},
   "outputs": [
    {
     "ename": "TypeError",
     "evalue": "unhashable type: 'slice'",
     "output_type": "error",
     "traceback": [
      "\u001b[1;31m---------------------------------------------------------------------------\u001b[0m",
      "\u001b[1;31mTypeError\u001b[0m                                 Traceback (most recent call last)",
      "\u001b[1;32m<ipython-input-131-10699e43939e>\u001b[0m in \u001b[0;36m<module>\u001b[1;34m\u001b[0m\n\u001b[0;32m      5\u001b[0m \u001b[0mplt\u001b[0m\u001b[1;33m.\u001b[0m\u001b[0mylabel\u001b[0m\u001b[1;33m(\u001b[0m\u001b[1;34m'F2\\n (Attractiveness)'\u001b[0m\u001b[1;33m,\u001b[0m \u001b[0mrotation\u001b[0m\u001b[1;33m=\u001b[0m\u001b[1;36m0\u001b[0m\u001b[1;33m,\u001b[0m \u001b[0mloc\u001b[0m\u001b[1;33m=\u001b[0m\u001b[1;34m'top'\u001b[0m\u001b[1;33m,\u001b[0m \u001b[0mlabelpad\u001b[0m\u001b[1;33m=\u001b[0m\u001b[1;33m-\u001b[0m\u001b[1;36m10\u001b[0m\u001b[1;33m)\u001b[0m\u001b[1;33m\u001b[0m\u001b[1;33m\u001b[0m\u001b[0m\n\u001b[0;32m      6\u001b[0m \u001b[0mplt\u001b[0m\u001b[1;33m.\u001b[0m\u001b[0mxlim\u001b[0m\u001b[1;33m(\u001b[0m\u001b[1;33m-\u001b[0m\u001b[1;36m1\u001b[0m\u001b[1;33m,\u001b[0m\u001b[1;36m1.5\u001b[0m\u001b[1;33m)\u001b[0m\u001b[1;33m;\u001b[0m \u001b[0mplt\u001b[0m\u001b[1;33m.\u001b[0m\u001b[0mylim\u001b[0m\u001b[1;33m(\u001b[0m\u001b[1;33m-\u001b[0m\u001b[1;36m2\u001b[0m\u001b[1;33m,\u001b[0m\u001b[1;36m2\u001b[0m\u001b[1;33m)\u001b[0m\u001b[1;33m\u001b[0m\u001b[1;33m\u001b[0m\u001b[0m\n\u001b[1;32m----> 7\u001b[1;33m \u001b[0mplt\u001b[0m\u001b[1;33m.\u001b[0m\u001b[0mgca\u001b[0m\u001b[1;33m(\u001b[0m\u001b[1;33m)\u001b[0m\u001b[1;33m.\u001b[0m\u001b[0mspines\u001b[0m\u001b[1;33m[\u001b[0m\u001b[1;33m:\u001b[0m\u001b[1;33m]\u001b[0m\u001b[1;33m.\u001b[0m\u001b[0mset_position\u001b[0m\u001b[1;33m(\u001b[0m\u001b[1;34m'center'\u001b[0m\u001b[1;33m)\u001b[0m\u001b[1;33m;\u001b[0m\u001b[1;33m\u001b[0m\u001b[1;33m\u001b[0m\u001b[0m\n\u001b[0m",
      "\u001b[1;31mTypeError\u001b[0m: unhashable type: 'slice'"
     ]
    },
    {
     "data": {
      "image/png": "[encoded data removed]",
      "text/plain": [
       "<Figure size 498.375x360 with 1 Axes>"
      ]
     },
     "metadata": {
      "image/png": {
       "height": 419,
       "width": 596
      },
      "needs_background": "light"
     },
     "output_type": "display_data"
    }
   ],
   "source": [
    "sns.set_style({'axes.grid' : True})\n",
    "sns.set_context({\"axes.labelsize\": '16'})\n",
    "sns.relplot(data=customer_fa_loadings2, x=\"F1\", y=\"F2\", hue=\"Attribute (Variable)\", s=100, alpha=0.8, palette='muted')\n",
    "plt.xlabel('F1\\n (Worthiness)', loc='right')\n",
    "plt.ylabel('F2\\n (Attractiveness)', rotation=0, loc='top', labelpad=-10)\n",
    "plt.xlim(-1,1.5); plt.ylim(-2,2)\n",
    "plt.gca().spines[:].set_position('center');"
   ]
  },
  {
   "cell_type": "markdown",
   "metadata": {},
   "source": [
    "---"
   ]
  }
 ],
 "metadata": {
  "hide_input": false,
  "kernelspec": {
   "display_name": "Python 3",
   "language": "python",
   "name": "python3"
  },
  "language_info": {
   "codemirror_mode": {
    "name": "ipython",
    "version": 3
   },
   "file_extension": ".py",
   "mimetype": "text/x-python",
   "name": "python",
   "nbconvert_exporter": "python",
   "pygments_lexer": "ipython3",
   "version": "3.8.8"
  },
  "latex_envs": {
   "LaTeX_envs_menu_present": true,
   "autoclose": true,
   "autocomplete": true,
   "bibliofile": "biblio.bib",
   "cite_by": "apalike",
   "current_citInitial": 1,
   "eqLabelWithNumbers": true,
   "eqNumInitial": 1,
   "hotkeys": {
    "equation": "Ctrl-E",
    "itemize": "Ctrl-I"
   },
   "labels_anchors": false,
   "latex_user_defs": false,
   "report_style_numbering": true,
   "user_envs_cfg": false
  },
  "toc": {
   "base_numbering": 1,
   "nav_menu": {},
   "number_sections": true,
   "sideBar": true,
   "skip_h1_title": true,
   "title_cell": "Table of Contents",
   "title_sidebar": "Contents",
   "toc_cell": true,
   "toc_position": {},
   "toc_section_display": true,
   "toc_window_display": true
  },
  "varInspector": {
   "cols": {
    "lenName": 16,
    "lenType": 16,
    "lenVar": 40
   },
   "kernels_config": {
    "python": {
     "delete_cmd_postfix": "",
     "delete_cmd_prefix": "del ",
     "library": "var_list.py",
     "varRefreshCmd": "print(var_dic_list())"
    },
    "r": {
     "delete_cmd_postfix": ") ",
     "delete_cmd_prefix": "rm(",
     "library": "var_list.r",
     "varRefreshCmd": "cat(var_dic_list()) "
    }
   },
   "types_to_exclude": [
    "module",
    "function",
    "builtin_function_or_method",
    "instance",
    "_Feature"
   ],
   "window_display": false
  }
 },
 "nbformat": 4,
 "nbformat_minor": 4
}
